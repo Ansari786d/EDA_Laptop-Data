{
 "cells": [
  {
   "cell_type": "code",
   "execution_count": 5,
   "id": "a44f3c19-b8f1-42cc-9ff0-87a9c1f4b3b0",
   "metadata": {},
   "outputs": [],
   "source": [
    "import pandas as pd \n",
    "import numpy as np \n"
   ]
  },
  {
   "cell_type": "markdown",
   "id": "6c158135-79ed-42b5-91a3-1465ab4d7014",
   "metadata": {},
   "source": [
    "## 'Python Date Time Module'"
   ]
  },
  {
   "cell_type": "code",
   "execution_count": 16,
   "id": "95d24025-e209-4ba1-a40b-3953ef17f5bf",
   "metadata": {},
   "outputs": [],
   "source": [
    "import datetime as dt "
   ]
  },
  {
   "cell_type": "code",
   "execution_count": 7,
   "id": "668e93cc-2048-44de-8da4-0e285c98828a",
   "metadata": {},
   "outputs": [],
   "source": [
    "\n",
    "\n",
    "today = dt.date(2022,7,31)\n"
   ]
  },
  {
   "cell_type": "code",
   "execution_count": 8,
   "id": "009ca1b4-fa5e-449b-acde-c2d2c35cb4e5",
   "metadata": {},
   "outputs": [
    {
     "data": {
      "text/plain": [
       "7"
      ]
     },
     "execution_count": 8,
     "metadata": {},
     "output_type": "execute_result"
    }
   ],
   "source": [
    "today.month"
   ]
  },
  {
   "cell_type": "code",
   "execution_count": 9,
   "id": "0c87f2a1-5d0a-4c21-9d43-ebe6821cfd12",
   "metadata": {},
   "outputs": [
    {
     "data": {
      "text/plain": [
       "2022"
      ]
     },
     "execution_count": 9,
     "metadata": {},
     "output_type": "execute_result"
    }
   ],
   "source": [
    "today.year"
   ]
  },
  {
   "cell_type": "code",
   "execution_count": 10,
   "id": "6aadd2e1-e270-42a7-9d38-49c61d711467",
   "metadata": {},
   "outputs": [
    {
     "data": {
      "text/plain": [
       "31"
      ]
     },
     "execution_count": 10,
     "metadata": {},
     "output_type": "execute_result"
    }
   ],
   "source": [
    "today.day\n"
   ]
  },
  {
   "cell_type": "code",
   "execution_count": 15,
   "id": "a59d8365-93a4-4ecb-9582-b25fe8723b18",
   "metadata": {},
   "outputs": [
    {
     "data": {
      "text/plain": [
       "datetime.date"
      ]
     },
     "execution_count": 15,
     "metadata": {},
     "output_type": "execute_result"
    }
   ],
   "source": [
    "type(today)"
   ]
  },
  {
   "cell_type": "code",
   "execution_count": 20,
   "id": "bc66267f-6d57-4b1e-8070-12cbd018760b",
   "metadata": {},
   "outputs": [
    {
     "name": "stdout",
     "output_type": "stream",
     "text": [
      "7\n",
      "2022\n",
      "12\n",
      "59\n",
      "6\n"
     ]
    }
   ],
   "source": [
    "today = dt.datetime(2022,7,31,12,59,6)\n",
    "print(today.month)\n",
    "print(today.year)\n",
    "print(today.hour)\n",
    "print(today.minute)\n",
    "print(today.second)"
   ]
  },
  {
   "cell_type": "markdown",
   "id": "e1070063-c57e-461e-99f9-29b31ed90743",
   "metadata": {},
   "source": [
    "## <b>Timestamp<b>"
   ]
  },
  {
   "cell_type": "code",
   "execution_count": 22,
   "id": "8441971c-e07b-4898-9b3c-fa4acaf69833",
   "metadata": {},
   "outputs": [
    {
     "data": {
      "text/plain": [
       "Timestamp('2022-12-02 00:00:00')"
      ]
     },
     "execution_count": 22,
     "metadata": {},
     "output_type": "execute_result"
    }
   ],
   "source": [
    "pd.Timestamp('2022-12-02')"
   ]
  },
  {
   "cell_type": "code",
   "execution_count": 23,
   "id": "5258d8b6-57eb-4bd4-9679-43f554bf9a17",
   "metadata": {},
   "outputs": [
    {
     "name": "stdout",
     "output_type": "stream",
     "text": [
      "2022-12-02 00:00:00\n"
     ]
    }
   ],
   "source": [
    "print(pd.Timestamp('2022/12/02'))"
   ]
  },
  {
   "cell_type": "code",
   "execution_count": 24,
   "id": "df3f9114-6053-43b1-8465-5ac471e0a2d5",
   "metadata": {},
   "outputs": [
    {
     "name": "stdout",
     "output_type": "stream",
     "text": [
      "2022-12-02 00:00:00\n"
     ]
    }
   ],
   "source": [
    "print(pd.Timestamp(2022,12,2))"
   ]
  },
  {
   "cell_type": "code",
   "execution_count": 27,
   "id": "d1ec875f-aee9-4699-9f39-72add7cf0b33",
   "metadata": {},
   "outputs": [
    {
     "name": "stdout",
     "output_type": "stream",
     "text": [
      "2022-01-01 14:10:20\n"
     ]
    }
   ],
   "source": [
    "print(pd.Timestamp('2022,12,02,2:10:20 PM'))"
   ]
  },
  {
   "cell_type": "markdown",
   "id": "1d0da463-1035-4b45-ba9e-d526a62decb6",
   "metadata": {},
   "source": [
    "# <U> DateTimeIndex <U>"
   ]
  },
  {
   "cell_type": "code",
   "execution_count": 28,
   "id": "c15321c8-74a7-49a0-8840-5dbb9d7956a0",
   "metadata": {},
   "outputs": [],
   "source": [
    "dates = ['2022/12/02', '2022/12/03','2022/12/04']"
   ]
  },
  {
   "cell_type": "code",
   "execution_count": 29,
   "id": "65e43acb-e57a-427a-8346-c65017540be7",
   "metadata": {},
   "outputs": [
    {
     "data": {
      "text/plain": [
       "DatetimeIndex(['2022-12-02', '2022-12-03', '2022-12-04'], dtype='datetime64[ns]', freq=None)"
      ]
     },
     "execution_count": 29,
     "metadata": {},
     "output_type": "execute_result"
    }
   ],
   "source": [
    "pd.DatetimeIndex(dates)"
   ]
  },
  {
   "cell_type": "code",
   "execution_count": 30,
   "id": "5e0c6841-be1d-465c-a115-400b80821aa4",
   "metadata": {},
   "outputs": [
    {
     "data": {
      "text/plain": [
       "list"
      ]
     },
     "execution_count": 30,
     "metadata": {},
     "output_type": "execute_result"
    }
   ],
   "source": [
    "type(dates)"
   ]
  },
  {
   "cell_type": "code",
   "execution_count": 36,
   "id": "e376445e-d8d1-4e04-a65f-7f386843f74b",
   "metadata": {},
   "outputs": [
    {
     "data": {
      "text/plain": [
       "['2022/12/02', '2022/12/03', '2022/12/04']"
      ]
     },
     "execution_count": 36,
     "metadata": {},
     "output_type": "execute_result"
    }
   ],
   "source": [
    "dates"
   ]
  },
  {
   "cell_type": "markdown",
   "id": "eeda9210-8ec4-4994-8468-2e56a3ec56f1",
   "metadata": {},
   "source": [
    "# pd.to_datetime()"
   ]
  },
  {
   "cell_type": "code",
   "execution_count": 37,
   "id": "ec107d36-85b1-4dc1-b25f-e8039e0fea7d",
   "metadata": {},
   "outputs": [
    {
     "data": {
      "text/plain": [
       "Timestamp('2022-12-02 00:00:00')"
      ]
     },
     "execution_count": 37,
     "metadata": {},
     "output_type": "execute_result"
    }
   ],
   "source": [
    "pd.to_datetime('2022/12/02')"
   ]
  },
  {
   "cell_type": "code",
   "execution_count": 38,
   "id": "2c2fbfb7-6ec8-4236-8576-357e5ea076d7",
   "metadata": {},
   "outputs": [
    {
     "data": {
      "text/plain": [
       "Timestamp('2022-12-02 00:00:00')"
      ]
     },
     "execution_count": 38,
     "metadata": {},
     "output_type": "execute_result"
    }
   ],
   "source": [
    "pd.to_datetime(dt.date(2022,12,2))"
   ]
  },
  {
   "cell_type": "code",
   "execution_count": 41,
   "id": "d46b7134-764d-41b0-b89e-9fe1d88224f7",
   "metadata": {},
   "outputs": [
    {
     "data": {
      "text/plain": [
       "Timestamp('2022-12-02 12:10:30')"
      ]
     },
     "execution_count": 41,
     "metadata": {},
     "output_type": "execute_result"
    }
   ],
   "source": [
    "\n",
    "pd.to_datetime(dt.datetime(2022,12,2,12,10,30))"
   ]
  },
  {
   "cell_type": "code",
   "execution_count": 42,
   "id": "ce5b70a9-1ffb-47e0-8ed4-04be9a6aed33",
   "metadata": {},
   "outputs": [],
   "source": [
    "dates = ['2022/12/02', '2022/12/03','2022/12/04']"
   ]
  },
  {
   "cell_type": "code",
   "execution_count": 43,
   "id": "cf2560c5-a1f4-4dae-8425-472811d5591b",
   "metadata": {},
   "outputs": [
    {
     "data": {
      "text/plain": [
       "DatetimeIndex(['2022-12-02', '2022-12-03', '2022-12-04'], dtype='datetime64[ns]', freq=None)"
      ]
     },
     "execution_count": 43,
     "metadata": {},
     "output_type": "execute_result"
    }
   ],
   "source": [
    "pd.to_datetime(dates)"
   ]
  },
  {
   "cell_type": "code",
   "execution_count": 44,
   "id": "d1652198-705e-430d-b119-54cdc2a1ade1",
   "metadata": {},
   "outputs": [],
   "source": [
    "dates = ['December 30th,2019', '2019-12-12', 'this is date', 'Dec 23rd, 2022']"
   ]
  },
  {
   "cell_type": "code",
   "execution_count": 45,
   "id": "350ac4b0-6825-4c4f-a3df-423e748c4266",
   "metadata": {},
   "outputs": [
    {
     "data": {
      "text/plain": [
       "['December 30th,2019', '2019-12-12', 'this is date', 'Dec 23rd, 2022']"
      ]
     },
     "execution_count": 45,
     "metadata": {},
     "output_type": "execute_result"
    }
   ],
   "source": [
    "dates"
   ]
  },
  {
   "cell_type": "code",
   "execution_count": 47,
   "id": "8a0cfdc1-0957-4123-8d70-4bbce1a3b780",
   "metadata": {},
   "outputs": [
    {
     "data": {
      "text/plain": [
       "DatetimeIndex(['2019-12-30', '2019-12-12', 'NaT', '2022-12-23'], dtype='datetime64[ns]', freq=None)"
      ]
     },
     "execution_count": 47,
     "metadata": {},
     "output_type": "execute_result"
    }
   ],
   "source": [
    "pd.to_datetime(dates, errors='coerce')"
   ]
  },
  {
   "cell_type": "code",
   "execution_count": 50,
   "id": "c0df5596-9e12-42a3-acbf-379d5aa70068",
   "metadata": {},
   "outputs": [],
   "source": [
    "unixtime = [12345678, 52458967, 15896348]"
   ]
  },
  {
   "cell_type": "code",
   "execution_count": 51,
   "id": "5eb9fd93-59c8-4c77-9122-da66494b2db9",
   "metadata": {},
   "outputs": [
    {
     "data": {
      "text/plain": [
       "DatetimeIndex(['1970-05-23 21:21:18', '1971-08-31 03:56:07',\n",
       "               '1970-07-03 23:39:08'],\n",
       "              dtype='datetime64[ns]', freq=None)"
      ]
     },
     "execution_count": 51,
     "metadata": {},
     "output_type": "execute_result"
    }
   ],
   "source": [
    "pd.to_datetime(unixtime, unit='s')"
   ]
  },
  {
   "cell_type": "markdown",
   "id": "5ad9dcd1-68a3-4577-ab9a-a78c207f9c86",
   "metadata": {},
   "source": [
    "# Create range in the form of Date pd.date_range()"
   ]
  },
  {
   "cell_type": "code",
   "execution_count": 54,
   "id": "90729ef8-30b5-45ec-9db2-a1e4441b0cbb",
   "metadata": {},
   "outputs": [],
   "source": [
    "times = pd.date_range(start = '22-03-2000', end='31-07-2022', freq='D') # day wise "
   ]
  },
  {
   "cell_type": "code",
   "execution_count": null,
   "id": "7d5d3045-6f17-4e9e-8f1c-a68110406051",
   "metadata": {},
   "outputs": [],
   "source": [
    "times = pd.date_range(start = '22-03-2000', end='31-07-2022', freq='A') # yearly "
   ]
  },
  {
   "cell_type": "code",
   "execution_count": 59,
   "id": "7babf622-8c64-4378-ad2b-d892db4bd023",
   "metadata": {},
   "outputs": [],
   "source": [
    "times = pd.date_range(start = '22-03-2000', end='31-07-2022', freq='W') # weekly "
   ]
  },
  {
   "cell_type": "code",
   "execution_count": 66,
   "id": "668c6cba-85f8-43a7-8acb-7c38d1fe9375",
   "metadata": {},
   "outputs": [],
   "source": [
    "times = pd.date_range(start = '22-03-2000', end='31-07-2022', freq='M') # monthly "
   ]
  },
  {
   "cell_type": "code",
   "execution_count": 67,
   "id": "92796c38-15f5-42f5-be2e-a8e2c4a57359",
   "metadata": {},
   "outputs": [
    {
     "data": {
      "text/plain": [
       "DatetimeIndex(['2000-03-31', '2000-04-30', '2000-05-31', '2000-06-30',\n",
       "               '2000-07-31', '2000-08-31', '2000-09-30', '2000-10-31',\n",
       "               '2000-11-30', '2000-12-31',\n",
       "               ...\n",
       "               '2021-10-31', '2021-11-30', '2021-12-31', '2022-01-31',\n",
       "               '2022-02-28', '2022-03-31', '2022-04-30', '2022-05-31',\n",
       "               '2022-06-30', '2022-07-31'],\n",
       "              dtype='datetime64[ns]', length=269, freq='M')"
      ]
     },
     "execution_count": 67,
     "metadata": {},
     "output_type": "execute_result"
    }
   ],
   "source": [
    "times"
   ]
  },
  {
   "cell_type": "code",
   "execution_count": 64,
   "id": "91945e6c-3abc-450d-99d7-02b796dcaa26",
   "metadata": {},
   "outputs": [
    {
     "data": {
      "text/plain": [
       "269"
      ]
     },
     "execution_count": 64,
     "metadata": {},
     "output_type": "execute_result"
    }
   ],
   "source": [
    "len(times)"
   ]
  },
  {
   "cell_type": "code",
   "execution_count": 68,
   "id": "f18e9df5-a254-4bfd-a445-b8cf3c33bf24",
   "metadata": {},
   "outputs": [],
   "source": [
    "import  pandas_datareader as data  "
   ]
  },
  {
   "cell_type": "code",
   "execution_count": 70,
   "id": "1bcb1ccb-6557-4c96-8100-26bf8d355265",
   "metadata": {},
   "outputs": [],
   "source": [
    "df = data.DataReader(name = \"MSFT\",data_source='yahoo', start='2019-01-01', end='2019-12-22')"
   ]
  },
  {
   "cell_type": "code",
   "execution_count": 71,
   "id": "d10a3a98-9be5-438e-b01f-00368a9639e6",
   "metadata": {},
   "outputs": [
    {
     "data": {
      "text/html": [
       "<div>\n",
       "<style scoped>\n",
       "    .dataframe tbody tr th:only-of-type {\n",
       "        vertical-align: middle;\n",
       "    }\n",
       "\n",
       "    .dataframe tbody tr th {\n",
       "        vertical-align: top;\n",
       "    }\n",
       "\n",
       "    .dataframe thead th {\n",
       "        text-align: right;\n",
       "    }\n",
       "</style>\n",
       "<table border=\"1\" class=\"dataframe\">\n",
       "  <thead>\n",
       "    <tr style=\"text-align: right;\">\n",
       "      <th></th>\n",
       "      <th>High</th>\n",
       "      <th>Low</th>\n",
       "      <th>Open</th>\n",
       "      <th>Close</th>\n",
       "      <th>Volume</th>\n",
       "      <th>Adj Close</th>\n",
       "    </tr>\n",
       "    <tr>\n",
       "      <th>Date</th>\n",
       "      <th></th>\n",
       "      <th></th>\n",
       "      <th></th>\n",
       "      <th></th>\n",
       "      <th></th>\n",
       "      <th></th>\n",
       "    </tr>\n",
       "  </thead>\n",
       "  <tbody>\n",
       "    <tr>\n",
       "      <th>2018-12-31</th>\n",
       "      <td>102.400002</td>\n",
       "      <td>100.440002</td>\n",
       "      <td>101.290001</td>\n",
       "      <td>101.570000</td>\n",
       "      <td>33173800.0</td>\n",
       "      <td>97.787148</td>\n",
       "    </tr>\n",
       "    <tr>\n",
       "      <th>2019-01-02</th>\n",
       "      <td>101.750000</td>\n",
       "      <td>98.940002</td>\n",
       "      <td>99.550003</td>\n",
       "      <td>101.120003</td>\n",
       "      <td>35329300.0</td>\n",
       "      <td>97.353920</td>\n",
       "    </tr>\n",
       "    <tr>\n",
       "      <th>2019-01-03</th>\n",
       "      <td>100.190002</td>\n",
       "      <td>97.199997</td>\n",
       "      <td>100.099998</td>\n",
       "      <td>97.400002</td>\n",
       "      <td>42579100.0</td>\n",
       "      <td>93.772469</td>\n",
       "    </tr>\n",
       "    <tr>\n",
       "      <th>2019-01-04</th>\n",
       "      <td>102.510002</td>\n",
       "      <td>98.930000</td>\n",
       "      <td>99.720001</td>\n",
       "      <td>101.930000</td>\n",
       "      <td>44060600.0</td>\n",
       "      <td>98.133736</td>\n",
       "    </tr>\n",
       "    <tr>\n",
       "      <th>2019-01-07</th>\n",
       "      <td>103.269997</td>\n",
       "      <td>100.980003</td>\n",
       "      <td>101.639999</td>\n",
       "      <td>102.059998</td>\n",
       "      <td>35656100.0</td>\n",
       "      <td>98.258888</td>\n",
       "    </tr>\n",
       "    <tr>\n",
       "      <th>...</th>\n",
       "      <td>...</td>\n",
       "      <td>...</td>\n",
       "      <td>...</td>\n",
       "      <td>...</td>\n",
       "      <td>...</td>\n",
       "      <td>...</td>\n",
       "    </tr>\n",
       "    <tr>\n",
       "      <th>2019-12-16</th>\n",
       "      <td>155.899994</td>\n",
       "      <td>154.820007</td>\n",
       "      <td>155.110001</td>\n",
       "      <td>155.529999</td>\n",
       "      <td>24144200.0</td>\n",
       "      <td>151.951508</td>\n",
       "    </tr>\n",
       "    <tr>\n",
       "      <th>2019-12-17</th>\n",
       "      <td>155.710007</td>\n",
       "      <td>154.449997</td>\n",
       "      <td>155.449997</td>\n",
       "      <td>154.690002</td>\n",
       "      <td>25425600.0</td>\n",
       "      <td>151.130829</td>\n",
       "    </tr>\n",
       "    <tr>\n",
       "      <th>2019-12-18</th>\n",
       "      <td>155.479996</td>\n",
       "      <td>154.179993</td>\n",
       "      <td>154.300003</td>\n",
       "      <td>154.369995</td>\n",
       "      <td>24129200.0</td>\n",
       "      <td>150.818176</td>\n",
       "    </tr>\n",
       "    <tr>\n",
       "      <th>2019-12-19</th>\n",
       "      <td>155.770004</td>\n",
       "      <td>153.750000</td>\n",
       "      <td>154.000000</td>\n",
       "      <td>155.710007</td>\n",
       "      <td>24958900.0</td>\n",
       "      <td>152.127350</td>\n",
       "    </tr>\n",
       "    <tr>\n",
       "      <th>2019-12-20</th>\n",
       "      <td>158.490005</td>\n",
       "      <td>156.289993</td>\n",
       "      <td>157.350006</td>\n",
       "      <td>157.410004</td>\n",
       "      <td>53477500.0</td>\n",
       "      <td>153.788239</td>\n",
       "    </tr>\n",
       "  </tbody>\n",
       "</table>\n",
       "<p>247 rows × 6 columns</p>\n",
       "</div>"
      ],
      "text/plain": [
       "                  High         Low        Open       Close      Volume  \\\n",
       "Date                                                                     \n",
       "2018-12-31  102.400002  100.440002  101.290001  101.570000  33173800.0   \n",
       "2019-01-02  101.750000   98.940002   99.550003  101.120003  35329300.0   \n",
       "2019-01-03  100.190002   97.199997  100.099998   97.400002  42579100.0   \n",
       "2019-01-04  102.510002   98.930000   99.720001  101.930000  44060600.0   \n",
       "2019-01-07  103.269997  100.980003  101.639999  102.059998  35656100.0   \n",
       "...                ...         ...         ...         ...         ...   \n",
       "2019-12-16  155.899994  154.820007  155.110001  155.529999  24144200.0   \n",
       "2019-12-17  155.710007  154.449997  155.449997  154.690002  25425600.0   \n",
       "2019-12-18  155.479996  154.179993  154.300003  154.369995  24129200.0   \n",
       "2019-12-19  155.770004  153.750000  154.000000  155.710007  24958900.0   \n",
       "2019-12-20  158.490005  156.289993  157.350006  157.410004  53477500.0   \n",
       "\n",
       "             Adj Close  \n",
       "Date                    \n",
       "2018-12-31   97.787148  \n",
       "2019-01-02   97.353920  \n",
       "2019-01-03   93.772469  \n",
       "2019-01-04   98.133736  \n",
       "2019-01-07   98.258888  \n",
       "...                ...  \n",
       "2019-12-16  151.951508  \n",
       "2019-12-17  151.130829  \n",
       "2019-12-18  150.818176  \n",
       "2019-12-19  152.127350  \n",
       "2019-12-20  153.788239  \n",
       "\n",
       "[247 rows x 6 columns]"
      ]
     },
     "execution_count": 71,
     "metadata": {},
     "output_type": "execute_result"
    }
   ],
   "source": [
    "df"
   ]
  },
  {
   "cell_type": "code",
   "execution_count": 72,
   "id": "a0422965-de2a-41a5-9014-278501429950",
   "metadata": {},
   "outputs": [
    {
     "data": {
      "text/plain": [
       "High         1.559000e+02\n",
       "Low          1.548200e+02\n",
       "Open         1.551100e+02\n",
       "Close        1.555300e+02\n",
       "Volume       2.414420e+07\n",
       "Adj Close    1.519515e+02\n",
       "Name: 2019-12-16 00:00:00, dtype: float64"
      ]
     },
     "execution_count": 72,
     "metadata": {},
     "output_type": "execute_result"
    }
   ],
   "source": [
    "df.loc['2019-12-16']"
   ]
  },
  {
   "cell_type": "code",
   "execution_count": 76,
   "id": "5c319add-e22a-44f7-958f-b4de89634abd",
   "metadata": {},
   "outputs": [
    {
     "data": {
      "text/plain": [
       "High         1.409900e+02\n",
       "Low          1.395300e+02\n",
       "Open         1.407900e+02\n",
       "Close        1.404100e+02\n",
       "Volume       2.075160e+07\n",
       "Adj Close    1.367142e+02\n",
       "Name: 2019-10-16 00:00:00, dtype: float64"
      ]
     },
     "execution_count": 76,
     "metadata": {},
     "output_type": "execute_result"
    }
   ],
   "source": [
    "df.iloc[200]"
   ]
  },
  {
   "cell_type": "code",
   "execution_count": 77,
   "id": "b4331f08-9034-4f9b-8814-5279cbf63567",
   "metadata": {},
   "outputs": [
    {
     "data": {
      "text/html": [
       "<div>\n",
       "<style scoped>\n",
       "    .dataframe tbody tr th:only-of-type {\n",
       "        vertical-align: middle;\n",
       "    }\n",
       "\n",
       "    .dataframe tbody tr th {\n",
       "        vertical-align: top;\n",
       "    }\n",
       "\n",
       "    .dataframe thead th {\n",
       "        text-align: right;\n",
       "    }\n",
       "</style>\n",
       "<table border=\"1\" class=\"dataframe\">\n",
       "  <thead>\n",
       "    <tr style=\"text-align: right;\">\n",
       "      <th></th>\n",
       "      <th>High</th>\n",
       "      <th>Low</th>\n",
       "      <th>Open</th>\n",
       "      <th>Close</th>\n",
       "      <th>Volume</th>\n",
       "      <th>Adj Close</th>\n",
       "    </tr>\n",
       "    <tr>\n",
       "      <th>Date</th>\n",
       "      <th></th>\n",
       "      <th></th>\n",
       "      <th></th>\n",
       "      <th></th>\n",
       "      <th></th>\n",
       "      <th></th>\n",
       "    </tr>\n",
       "  </thead>\n",
       "  <tbody>\n",
       "    <tr>\n",
       "      <th>2019-12-16</th>\n",
       "      <td>155.899994</td>\n",
       "      <td>154.820007</td>\n",
       "      <td>155.110001</td>\n",
       "      <td>155.529999</td>\n",
       "      <td>24144200.0</td>\n",
       "      <td>151.951508</td>\n",
       "    </tr>\n",
       "    <tr>\n",
       "      <th>2019-12-17</th>\n",
       "      <td>155.710007</td>\n",
       "      <td>154.449997</td>\n",
       "      <td>155.449997</td>\n",
       "      <td>154.690002</td>\n",
       "      <td>25425600.0</td>\n",
       "      <td>151.130829</td>\n",
       "    </tr>\n",
       "    <tr>\n",
       "      <th>2019-12-18</th>\n",
       "      <td>155.479996</td>\n",
       "      <td>154.179993</td>\n",
       "      <td>154.300003</td>\n",
       "      <td>154.369995</td>\n",
       "      <td>24129200.0</td>\n",
       "      <td>150.818176</td>\n",
       "    </tr>\n",
       "    <tr>\n",
       "      <th>2019-12-19</th>\n",
       "      <td>155.770004</td>\n",
       "      <td>153.750000</td>\n",
       "      <td>154.000000</td>\n",
       "      <td>155.710007</td>\n",
       "      <td>24958900.0</td>\n",
       "      <td>152.127350</td>\n",
       "    </tr>\n",
       "    <tr>\n",
       "      <th>2019-12-20</th>\n",
       "      <td>158.490005</td>\n",
       "      <td>156.289993</td>\n",
       "      <td>157.350006</td>\n",
       "      <td>157.410004</td>\n",
       "      <td>53477500.0</td>\n",
       "      <td>153.788239</td>\n",
       "    </tr>\n",
       "  </tbody>\n",
       "</table>\n",
       "</div>"
      ],
      "text/plain": [
       "                  High         Low        Open       Close      Volume  \\\n",
       "Date                                                                     \n",
       "2019-12-16  155.899994  154.820007  155.110001  155.529999  24144200.0   \n",
       "2019-12-17  155.710007  154.449997  155.449997  154.690002  25425600.0   \n",
       "2019-12-18  155.479996  154.179993  154.300003  154.369995  24129200.0   \n",
       "2019-12-19  155.770004  153.750000  154.000000  155.710007  24958900.0   \n",
       "2019-12-20  158.490005  156.289993  157.350006  157.410004  53477500.0   \n",
       "\n",
       "             Adj Close  \n",
       "Date                    \n",
       "2019-12-16  151.951508  \n",
       "2019-12-17  151.130829  \n",
       "2019-12-18  150.818176  \n",
       "2019-12-19  152.127350  \n",
       "2019-12-20  153.788239  "
      ]
     },
     "execution_count": 77,
     "metadata": {},
     "output_type": "execute_result"
    }
   ],
   "source": [
    "df.loc['2019-12-16':'2019-12-22']"
   ]
  },
  {
   "cell_type": "markdown",
   "id": "63b96847-8803-411c-a7a0-6b5f95a6da4c",
   "metadata": {},
   "source": [
    "# Timedelta"
   ]
  },
  {
   "cell_type": "code",
   "execution_count": 78,
   "id": "bce0c7be-fa88-43d1-afa4-d434c2b6efc0",
   "metadata": {},
   "outputs": [],
   "source": [
    "a= pd.Timestamp('2019-12-12')\n",
    "b = pd.Timestamp('2019-12-13')"
   ]
  },
  {
   "cell_type": "code",
   "execution_count": 80,
   "id": "16d6c4ee-50df-4533-8980-473148602a84",
   "metadata": {},
   "outputs": [
    {
     "data": {
      "text/plain": [
       "Timedelta('1 days 00:00:00')"
      ]
     },
     "execution_count": 80,
     "metadata": {},
     "output_type": "execute_result"
    }
   ],
   "source": [
    "b-a"
   ]
  },
  {
   "cell_type": "code",
   "execution_count": null,
   "id": "63581edc-5c27-46b8-ad6d-d89dca0300d5",
   "metadata": {},
   "outputs": [],
   "source": []
  }
 ],
 "metadata": {
  "kernelspec": {
   "display_name": "Python 3 (ipykernel)",
   "language": "python",
   "name": "python3"
  },
  "language_info": {
   "codemirror_mode": {
    "name": "ipython",
    "version": 3
   },
   "file_extension": ".py",
   "mimetype": "text/x-python",
   "name": "python",
   "nbconvert_exporter": "python",
   "pygments_lexer": "ipython3",
   "version": "3.9.12"
  }
 },
 "nbformat": 4,
 "nbformat_minor": 5
}
