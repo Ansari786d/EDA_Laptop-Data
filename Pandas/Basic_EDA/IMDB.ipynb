{
 "cells": [
  {
   "cell_type": "markdown",
   "id": "3eb9c5db-78cf-4e79-801e-9dc415df816d",
   "metadata": {},
   "source": [
    "#  Problem Statement\n",
    "####  In 2017, a certain production company, ABC decides to produce movies that will earn the best in terms of revenue, popularity and acclaim. This company approaches agency, XYZ and asks them to come up with characteristics of movies that will help them achieve their purpose. Agency gives the task to Salman. He is given the IMDB database of 1000 movies for the last 10 years (2006-2016). His task is come up with the characteristics of movies that earn:\n",
    "\n",
    "#### 1.The Highest Revenue\n",
    "#### 2.Popularity (IMDB Rating)\n",
    "#### 3.Critical Acclaim (Metacritic Rating)\n",
    "#### 4.The production company also wants to know whether this is the right time to invest in the movie industry and what strategy they should use to maximize benefits"
   ]
  },
  {
   "cell_type": "markdown",
   "id": "bbc1ff95-d67e-4947-9489-9c60032ea066",
   "metadata": {},
   "source": [
    "# Dataset Description\n",
    "\n",
    "#### The dataset is taken from the IMDB database. It contains data of 1000 most popular movies(by IMDB rating) for the period 2006-2016.\n",
    "#### IMDB (Internet Movie Database) is an online database of information related to films, television programs, home videos and video games, and  internet streams, including cast, production crew and personnel biographies, plot summaries, trivia, and fan reviews and ratings.\n",
    "\n",
    "#### Users registered on this site are invited to rate any film on a scale of 1 to 10, and the totals are converted into a weighted mean-rating that  is displayed beside each title.\n",
    "\n",
    "#### It also displays the Metascore of each title. Metascore is the rating given by another movie rating company called Metacritic. However, unlike  IMDB, they get ratings from registered well known rating agencies and calculates a weighted average of those ratings.\n",
    "\n",
    "#### Below is the data dictionary explaining the various columns of the dataset"
   ]
  },
  {
   "cell_type": "markdown",
   "id": "9573b367-ad69-4d05-99be-2307c97238f1",
   "metadata": {},
   "source": [
    "\n",
    "#### Rank>>>>>\t        Movie rank order\n",
    "####  Title>>>>>\t        The title of the film\n",
    "#### Genre>>>>>\t        A comma-separated list of genres used to classify the film\n",
    "#### Description>>>>>\tBrief one-sentence movie summary\n",
    "#### Director>>>>>>\t    The name of the film's director\n",
    "#### Actors>>>>>>\t        A comma-separated list of the main stars of the film\n",
    "#### Year>>>>>\t        The year that the film released as an integer.\n",
    "#### Runtime (Minutes)>>>>\tThe duration of the film in minutes.\n",
    "#### Rating\tUser rating for the movie 0-10\n",
    "#### Votes\tNumber of votes\n",
    "#### Revenue (Millions)\tMovie revenue in millions\n",
    "#### Metascore\tAn aggregated average of critic scores. Values are between 0 and 100. Higher scores represent positive reviews."
   ]
  },
  {
   "cell_type": "markdown",
   "id": "a83b0c57-f57c-46d7-802d-f66ced64f2d3",
   "metadata": {},
   "source": [
    "## importing required libraries"
   ]
  },
  {
   "cell_type": "code",
   "execution_count": 68,
   "id": "b7cb4909-d043-4135-a74d-7784ee761faa",
   "metadata": {},
   "outputs": [],
   "source": [
    "import numpy as np \n",
    "import pandas as pd \n",
    "import matplotlib.pyplot as plt \n",
    "import seaborn as sns \n"
   ]
  },
  {
   "cell_type": "markdown",
   "id": "1373d618-3ce4-473e-a995-5e41302f5f4d",
   "metadata": {},
   "source": [
    "## Reading the Dataset"
   ]
  },
  {
   "cell_type": "code",
   "execution_count": 69,
   "id": "33cbde58-49d8-4a1b-a3c2-2236d5cc806c",
   "metadata": {},
   "outputs": [],
   "source": [
    "\n",
    "df = pd.read_csv('https://raw.githubusercontent.com/insaid2018/Term-1/master/Data/Projects/1000%20movies%20data.csv')\n"
   ]
  },
  {
   "cell_type": "code",
   "execution_count": 70,
   "id": "add846c6-9d9f-4454-82ce-93e18ce9e7e1",
   "metadata": {},
   "outputs": [
    {
     "data": {
      "text/html": [
       "<div>\n",
       "<style scoped>\n",
       "    .dataframe tbody tr th:only-of-type {\n",
       "        vertical-align: middle;\n",
       "    }\n",
       "\n",
       "    .dataframe tbody tr th {\n",
       "        vertical-align: top;\n",
       "    }\n",
       "\n",
       "    .dataframe thead th {\n",
       "        text-align: right;\n",
       "    }\n",
       "</style>\n",
       "<table border=\"1\" class=\"dataframe\">\n",
       "  <thead>\n",
       "    <tr style=\"text-align: right;\">\n",
       "      <th></th>\n",
       "      <th>Rank</th>\n",
       "      <th>Title</th>\n",
       "      <th>Genre</th>\n",
       "      <th>Description</th>\n",
       "      <th>Director</th>\n",
       "      <th>Actors</th>\n",
       "      <th>Year</th>\n",
       "      <th>Runtime (Minutes)</th>\n",
       "      <th>Rating</th>\n",
       "      <th>Votes</th>\n",
       "      <th>Revenue (Millions)</th>\n",
       "      <th>Metascore</th>\n",
       "    </tr>\n",
       "  </thead>\n",
       "  <tbody>\n",
       "    <tr>\n",
       "      <th>0</th>\n",
       "      <td>1</td>\n",
       "      <td>Guardians of the Galaxy</td>\n",
       "      <td>Action,Adventure,Sci-Fi</td>\n",
       "      <td>A group of intergalactic criminals are forced ...</td>\n",
       "      <td>James Gunn</td>\n",
       "      <td>Chris Pratt, Vin Diesel, Bradley Cooper, Zoe S...</td>\n",
       "      <td>2014</td>\n",
       "      <td>121</td>\n",
       "      <td>8.1</td>\n",
       "      <td>757074</td>\n",
       "      <td>333.13</td>\n",
       "      <td>76.0</td>\n",
       "    </tr>\n",
       "    <tr>\n",
       "      <th>1</th>\n",
       "      <td>2</td>\n",
       "      <td>Prometheus</td>\n",
       "      <td>Adventure,Mystery,Sci-Fi</td>\n",
       "      <td>Following clues to the origin of mankind, a te...</td>\n",
       "      <td>Ridley Scott</td>\n",
       "      <td>Noomi Rapace, Logan Marshall-Green, Michael Fa...</td>\n",
       "      <td>2012</td>\n",
       "      <td>124</td>\n",
       "      <td>7.0</td>\n",
       "      <td>485820</td>\n",
       "      <td>126.46</td>\n",
       "      <td>65.0</td>\n",
       "    </tr>\n",
       "    <tr>\n",
       "      <th>2</th>\n",
       "      <td>3</td>\n",
       "      <td>Split</td>\n",
       "      <td>Horror,Thriller</td>\n",
       "      <td>Three girls are kidnapped by a man with a diag...</td>\n",
       "      <td>M. Night Shyamalan</td>\n",
       "      <td>James McAvoy, Anya Taylor-Joy, Haley Lu Richar...</td>\n",
       "      <td>2016</td>\n",
       "      <td>117</td>\n",
       "      <td>7.3</td>\n",
       "      <td>157606</td>\n",
       "      <td>138.12</td>\n",
       "      <td>62.0</td>\n",
       "    </tr>\n",
       "    <tr>\n",
       "      <th>3</th>\n",
       "      <td>4</td>\n",
       "      <td>Sing</td>\n",
       "      <td>Animation,Comedy,Family</td>\n",
       "      <td>In a city of humanoid animals, a hustling thea...</td>\n",
       "      <td>Christophe Lourdelet</td>\n",
       "      <td>Matthew McConaughey,Reese Witherspoon, Seth Ma...</td>\n",
       "      <td>2016</td>\n",
       "      <td>108</td>\n",
       "      <td>7.2</td>\n",
       "      <td>60545</td>\n",
       "      <td>270.32</td>\n",
       "      <td>59.0</td>\n",
       "    </tr>\n",
       "    <tr>\n",
       "      <th>4</th>\n",
       "      <td>5</td>\n",
       "      <td>Suicide Squad</td>\n",
       "      <td>Action,Adventure,Fantasy</td>\n",
       "      <td>A secret government agency recruits some of th...</td>\n",
       "      <td>David Ayer</td>\n",
       "      <td>Will Smith, Jared Leto, Margot Robbie, Viola D...</td>\n",
       "      <td>2016</td>\n",
       "      <td>123</td>\n",
       "      <td>6.2</td>\n",
       "      <td>393727</td>\n",
       "      <td>325.02</td>\n",
       "      <td>40.0</td>\n",
       "    </tr>\n",
       "    <tr>\n",
       "      <th>...</th>\n",
       "      <td>...</td>\n",
       "      <td>...</td>\n",
       "      <td>...</td>\n",
       "      <td>...</td>\n",
       "      <td>...</td>\n",
       "      <td>...</td>\n",
       "      <td>...</td>\n",
       "      <td>...</td>\n",
       "      <td>...</td>\n",
       "      <td>...</td>\n",
       "      <td>...</td>\n",
       "      <td>...</td>\n",
       "    </tr>\n",
       "    <tr>\n",
       "      <th>995</th>\n",
       "      <td>996</td>\n",
       "      <td>Secret in Their Eyes</td>\n",
       "      <td>Crime,Drama,Mystery</td>\n",
       "      <td>A tight-knit team of rising investigators, alo...</td>\n",
       "      <td>Billy Ray</td>\n",
       "      <td>Chiwetel Ejiofor, Nicole Kidman, Julia Roberts...</td>\n",
       "      <td>2015</td>\n",
       "      <td>111</td>\n",
       "      <td>6.2</td>\n",
       "      <td>27585</td>\n",
       "      <td>NaN</td>\n",
       "      <td>45.0</td>\n",
       "    </tr>\n",
       "    <tr>\n",
       "      <th>996</th>\n",
       "      <td>997</td>\n",
       "      <td>Hostel: Part II</td>\n",
       "      <td>Horror</td>\n",
       "      <td>Three American college students studying abroa...</td>\n",
       "      <td>Eli Roth</td>\n",
       "      <td>Lauren German, Heather Matarazzo, Bijou Philli...</td>\n",
       "      <td>2007</td>\n",
       "      <td>94</td>\n",
       "      <td>5.5</td>\n",
       "      <td>73152</td>\n",
       "      <td>17.54</td>\n",
       "      <td>46.0</td>\n",
       "    </tr>\n",
       "    <tr>\n",
       "      <th>997</th>\n",
       "      <td>998</td>\n",
       "      <td>Step Up 2: The Streets</td>\n",
       "      <td>Drama,Music,Romance</td>\n",
       "      <td>Romantic sparks occur between two dance studen...</td>\n",
       "      <td>Jon M. Chu</td>\n",
       "      <td>Robert Hoffman, Briana Evigan, Cassie Ventura,...</td>\n",
       "      <td>2008</td>\n",
       "      <td>98</td>\n",
       "      <td>6.2</td>\n",
       "      <td>70699</td>\n",
       "      <td>58.01</td>\n",
       "      <td>50.0</td>\n",
       "    </tr>\n",
       "    <tr>\n",
       "      <th>998</th>\n",
       "      <td>999</td>\n",
       "      <td>Search Party</td>\n",
       "      <td>Adventure,Comedy</td>\n",
       "      <td>A pair of friends embark on a mission to reuni...</td>\n",
       "      <td>Scot Armstrong</td>\n",
       "      <td>Adam Pally, T.J. Miller, Thomas Middleditch,Sh...</td>\n",
       "      <td>2014</td>\n",
       "      <td>93</td>\n",
       "      <td>5.6</td>\n",
       "      <td>4881</td>\n",
       "      <td>NaN</td>\n",
       "      <td>22.0</td>\n",
       "    </tr>\n",
       "    <tr>\n",
       "      <th>999</th>\n",
       "      <td>1000</td>\n",
       "      <td>Nine Lives</td>\n",
       "      <td>Comedy,Family,Fantasy</td>\n",
       "      <td>A stuffy businessman finds himself trapped ins...</td>\n",
       "      <td>Barry Sonnenfeld</td>\n",
       "      <td>Kevin Spacey, Jennifer Garner, Robbie Amell,Ch...</td>\n",
       "      <td>2016</td>\n",
       "      <td>87</td>\n",
       "      <td>5.3</td>\n",
       "      <td>12435</td>\n",
       "      <td>19.64</td>\n",
       "      <td>11.0</td>\n",
       "    </tr>\n",
       "  </tbody>\n",
       "</table>\n",
       "<p>1000 rows × 12 columns</p>\n",
       "</div>"
      ],
      "text/plain": [
       "     Rank                    Title                     Genre  \\\n",
       "0       1  Guardians of the Galaxy   Action,Adventure,Sci-Fi   \n",
       "1       2               Prometheus  Adventure,Mystery,Sci-Fi   \n",
       "2       3                    Split           Horror,Thriller   \n",
       "3       4                     Sing   Animation,Comedy,Family   \n",
       "4       5            Suicide Squad  Action,Adventure,Fantasy   \n",
       "..    ...                      ...                       ...   \n",
       "995   996     Secret in Their Eyes       Crime,Drama,Mystery   \n",
       "996   997          Hostel: Part II                    Horror   \n",
       "997   998   Step Up 2: The Streets       Drama,Music,Romance   \n",
       "998   999             Search Party          Adventure,Comedy   \n",
       "999  1000               Nine Lives     Comedy,Family,Fantasy   \n",
       "\n",
       "                                           Description              Director  \\\n",
       "0    A group of intergalactic criminals are forced ...            James Gunn   \n",
       "1    Following clues to the origin of mankind, a te...          Ridley Scott   \n",
       "2    Three girls are kidnapped by a man with a diag...    M. Night Shyamalan   \n",
       "3    In a city of humanoid animals, a hustling thea...  Christophe Lourdelet   \n",
       "4    A secret government agency recruits some of th...            David Ayer   \n",
       "..                                                 ...                   ...   \n",
       "995  A tight-knit team of rising investigators, alo...             Billy Ray   \n",
       "996  Three American college students studying abroa...              Eli Roth   \n",
       "997  Romantic sparks occur between two dance studen...            Jon M. Chu   \n",
       "998  A pair of friends embark on a mission to reuni...        Scot Armstrong   \n",
       "999  A stuffy businessman finds himself trapped ins...      Barry Sonnenfeld   \n",
       "\n",
       "                                                Actors  Year  \\\n",
       "0    Chris Pratt, Vin Diesel, Bradley Cooper, Zoe S...  2014   \n",
       "1    Noomi Rapace, Logan Marshall-Green, Michael Fa...  2012   \n",
       "2    James McAvoy, Anya Taylor-Joy, Haley Lu Richar...  2016   \n",
       "3    Matthew McConaughey,Reese Witherspoon, Seth Ma...  2016   \n",
       "4    Will Smith, Jared Leto, Margot Robbie, Viola D...  2016   \n",
       "..                                                 ...   ...   \n",
       "995  Chiwetel Ejiofor, Nicole Kidman, Julia Roberts...  2015   \n",
       "996  Lauren German, Heather Matarazzo, Bijou Philli...  2007   \n",
       "997  Robert Hoffman, Briana Evigan, Cassie Ventura,...  2008   \n",
       "998  Adam Pally, T.J. Miller, Thomas Middleditch,Sh...  2014   \n",
       "999  Kevin Spacey, Jennifer Garner, Robbie Amell,Ch...  2016   \n",
       "\n",
       "     Runtime (Minutes)  Rating   Votes  Revenue (Millions)  Metascore  \n",
       "0                  121     8.1  757074              333.13       76.0  \n",
       "1                  124     7.0  485820              126.46       65.0  \n",
       "2                  117     7.3  157606              138.12       62.0  \n",
       "3                  108     7.2   60545              270.32       59.0  \n",
       "4                  123     6.2  393727              325.02       40.0  \n",
       "..                 ...     ...     ...                 ...        ...  \n",
       "995                111     6.2   27585                 NaN       45.0  \n",
       "996                 94     5.5   73152               17.54       46.0  \n",
       "997                 98     6.2   70699               58.01       50.0  \n",
       "998                 93     5.6    4881                 NaN       22.0  \n",
       "999                 87     5.3   12435               19.64       11.0  \n",
       "\n",
       "[1000 rows x 12 columns]"
      ]
     },
     "execution_count": 70,
     "metadata": {},
     "output_type": "execute_result"
    }
   ],
   "source": [
    "df"
   ]
  },
  {
   "cell_type": "code",
   "execution_count": 71,
   "id": "8af40e17-bd2b-459a-9990-0347e3d76411",
   "metadata": {},
   "outputs": [
    {
     "name": "stdout",
     "output_type": "stream",
     "text": [
      "total rows:  1000\n",
      "total columns:  12\n"
     ]
    }
   ],
   "source": [
    "# shape of dataset\n",
    "\n",
    "print(\"total rows: \",df.shape[0])\n",
    "print(\"total columns: \",df.shape[1])"
   ]
  },
  {
   "cell_type": "code",
   "execution_count": 72,
   "id": "970a71bb-7bac-44c8-832f-f9d7a58ba9bf",
   "metadata": {},
   "outputs": [
    {
     "data": {
      "text/plain": [
       "Rank                  1000\n",
       "Title                  999\n",
       "Genre                  207\n",
       "Description           1000\n",
       "Director               644\n",
       "Actors                 996\n",
       "Year                    11\n",
       "Runtime (Minutes)       94\n",
       "Rating                  55\n",
       "Votes                  997\n",
       "Revenue (Millions)     814\n",
       "Metascore               84\n",
       "dtype: int64"
      ]
     },
     "execution_count": 72,
     "metadata": {},
     "output_type": "execute_result"
    }
   ],
   "source": [
    "# unique values in all the columns\n",
    "df.nunique()"
   ]
  },
  {
   "cell_type": "markdown",
   "id": "6ca2fb4b-624a-492d-ae91-6c3fab4206e1",
   "metadata": {},
   "source": [
    "## A- First, we will do cleaning our data \n",
    "##### it include filling missing values etc."
   ]
  },
  {
   "cell_type": "markdown",
   "id": "e26032ed-cf53-44d2-af17-d6f865177a0b",
   "metadata": {},
   "source": [
    "\n",
    "### we have 1000 rows containing 1000 movies details but here unique value of title is only 999. Is there any duplicate movie?\n",
    "#### let's find out"
   ]
  },
  {
   "cell_type": "code",
   "execution_count": 73,
   "id": "dbd7f1cc-9c21-4891-bda6-a8fd4c88df23",
   "metadata": {},
   "outputs": [
    {
     "data": {
      "text/html": [
       "<div>\n",
       "<style scoped>\n",
       "    .dataframe tbody tr th:only-of-type {\n",
       "        vertical-align: middle;\n",
       "    }\n",
       "\n",
       "    .dataframe tbody tr th {\n",
       "        vertical-align: top;\n",
       "    }\n",
       "\n",
       "    .dataframe thead th {\n",
       "        text-align: right;\n",
       "    }\n",
       "</style>\n",
       "<table border=\"1\" class=\"dataframe\">\n",
       "  <thead>\n",
       "    <tr style=\"text-align: right;\">\n",
       "      <th></th>\n",
       "      <th>Rank</th>\n",
       "      <th>Title</th>\n",
       "      <th>Genre</th>\n",
       "      <th>Description</th>\n",
       "      <th>Director</th>\n",
       "      <th>Actors</th>\n",
       "      <th>Year</th>\n",
       "      <th>Runtime (Minutes)</th>\n",
       "      <th>Rating</th>\n",
       "      <th>Votes</th>\n",
       "      <th>Revenue (Millions)</th>\n",
       "      <th>Metascore</th>\n",
       "    </tr>\n",
       "  </thead>\n",
       "  <tbody>\n",
       "    <tr>\n",
       "      <th>239</th>\n",
       "      <td>240</td>\n",
       "      <td>The Host</td>\n",
       "      <td>Action,Adventure,Romance</td>\n",
       "      <td>When an unseen enemy threatens mankind by taki...</td>\n",
       "      <td>Andrew Niccol</td>\n",
       "      <td>Saoirse Ronan, Max Irons, Jake Abel, Diane Kruger</td>\n",
       "      <td>2013</td>\n",
       "      <td>125</td>\n",
       "      <td>5.9</td>\n",
       "      <td>96852</td>\n",
       "      <td>26.62</td>\n",
       "      <td>35.0</td>\n",
       "    </tr>\n",
       "    <tr>\n",
       "      <th>632</th>\n",
       "      <td>633</td>\n",
       "      <td>The Host</td>\n",
       "      <td>Comedy,Drama,Horror</td>\n",
       "      <td>A monster emerges from Seoul's Han River and f...</td>\n",
       "      <td>Bong Joon Ho</td>\n",
       "      <td>Kang-ho Song, Hee-Bong Byun, Hae-il Park, Doon...</td>\n",
       "      <td>2006</td>\n",
       "      <td>120</td>\n",
       "      <td>7.0</td>\n",
       "      <td>73491</td>\n",
       "      <td>2.20</td>\n",
       "      <td>85.0</td>\n",
       "    </tr>\n",
       "  </tbody>\n",
       "</table>\n",
       "</div>"
      ],
      "text/plain": [
       "     Rank     Title                     Genre  \\\n",
       "239   240  The Host  Action,Adventure,Romance   \n",
       "632   633  The Host       Comedy,Drama,Horror   \n",
       "\n",
       "                                           Description       Director  \\\n",
       "239  When an unseen enemy threatens mankind by taki...  Andrew Niccol   \n",
       "632  A monster emerges from Seoul's Han River and f...   Bong Joon Ho   \n",
       "\n",
       "                                                Actors  Year  \\\n",
       "239  Saoirse Ronan, Max Irons, Jake Abel, Diane Kruger  2013   \n",
       "632  Kang-ho Song, Hee-Bong Byun, Hae-il Park, Doon...  2006   \n",
       "\n",
       "     Runtime (Minutes)  Rating  Votes  Revenue (Millions)  Metascore  \n",
       "239                125     5.9  96852               26.62       35.0  \n",
       "632                120     7.0  73491                2.20       85.0  "
      ]
     },
     "execution_count": 73,
     "metadata": {},
     "output_type": "execute_result"
    }
   ],
   "source": [
    "\n",
    "df[df.Title.duplicated(keep=False)]"
   ]
  },
  {
   "cell_type": "markdown",
   "id": "a98b5d33-41ac-4083-8c1b-d684aaf0946e",
   "metadata": {},
   "source": [
    "#### Based on the result we can see that the movie 'The Host' appear two times. what do you think is the value duplicated?\n",
    "#### Well answer is 'NO', because the <u>'The Host'<u> movie has released on 2006 and 2013. "
   ]
  },
  {
   "cell_type": "markdown",
   "id": "25d5c67e-f222-417a-8492-e2bf98974e07",
   "metadata": {},
   "source": [
    "## Checking null values"
   ]
  },
  {
   "cell_type": "code",
   "execution_count": 74,
   "id": "a81f327b-2f65-4d07-aae9-9c767e8a0cb5",
   "metadata": {},
   "outputs": [
    {
     "data": {
      "text/plain": [
       "Rank                    0\n",
       "Title                   0\n",
       "Genre                   0\n",
       "Description             0\n",
       "Director                0\n",
       "Actors                  0\n",
       "Year                    0\n",
       "Runtime (Minutes)       0\n",
       "Rating                  0\n",
       "Votes                   0\n",
       "Revenue (Millions)    128\n",
       "Metascore              64\n",
       "dtype: int64"
      ]
     },
     "execution_count": 74,
     "metadata": {},
     "output_type": "execute_result"
    }
   ],
   "source": [
    "\n",
    "df.isnull().sum()"
   ]
  },
  {
   "cell_type": "markdown",
   "id": "ab100877-363a-420c-b37c-af82623caa2b",
   "metadata": {},
   "source": [
    "### Checking the percentage of missing value "
   ]
  },
  {
   "cell_type": "code",
   "execution_count": 75,
   "id": "b395fa00-84aa-47cf-b392-caf9ef9a5cfd",
   "metadata": {},
   "outputs": [
    {
     "data": {
      "text/plain": [
       "0.128"
      ]
     },
     "execution_count": 75,
     "metadata": {},
     "output_type": "execute_result"
    }
   ],
   "source": [
    "df['Revenue (Millions)'].isnull().mean() #  12% of missing values "
   ]
  },
  {
   "cell_type": "code",
   "execution_count": 76,
   "id": "8626cc25-4f3b-4301-8cde-f598b5f0f6dc",
   "metadata": {},
   "outputs": [
    {
     "data": {
      "text/plain": [
       "0.064"
      ]
     },
     "execution_count": 76,
     "metadata": {},
     "output_type": "execute_result"
    }
   ],
   "source": [
    "df['Metascore'].isnull().mean() # 6% of missing value "
   ]
  },
  {
   "cell_type": "markdown",
   "id": "38f890e8-d19e-4f80-8ea7-8b98c0ba3b0c",
   "metadata": {},
   "source": [
    "#### 'Revenue' and 'Metascore' is important for our analysis so we cannot drop them\n",
    "#### 'Revenue' contains around 13% of missing values which is quite high value, so we are going to fill those values \n",
    "#### 'Metascore' contains around 6% of missing values, it is not that much high value so we can drop rows that contain missing values"
   ]
  },
  {
   "cell_type": "markdown",
   "id": "fc94152d-2c4c-464b-89e5-c8ac9c0af533",
   "metadata": {},
   "source": [
    "#### Checking the distribution of missing values columns"
   ]
  },
  {
   "cell_type": "code",
   "execution_count": 77,
   "id": "047800bd-d7f4-44ef-898b-70248da22ba8",
   "metadata": {},
   "outputs": [],
   "source": [
    "%matplotlib inline"
   ]
  },
  {
   "cell_type": "code",
   "execution_count": 78,
   "id": "c2fe40f0-b447-489e-8bb0-bab14ef7a9cc",
   "metadata": {},
   "outputs": [
    {
     "data": {
      "text/plain": [
       "<AxesSubplot:ylabel='Frequency'>"
      ]
     },
     "execution_count": 78,
     "metadata": {},
     "output_type": "execute_result"
    },
    {
     "data": {
      "image/png": "[encoded data removed]",
      "text/plain": [
       "<Figure size 432x288 with 1 Axes>"
      ]
     },
     "metadata": {
      "needs_background": "light"
     },
     "output_type": "display_data"
    }
   ],
   "source": [
    "df['Revenue (Millions)'].plot(kind='hist')"
   ]
  },
  {
   "cell_type": "markdown",
   "id": "72852ce3-31ae-4f4b-8ecb-1f29dd273f65",
   "metadata": {},
   "source": [
    "### The distribution is right skewed. So we will fill the values with median."
   ]
  },
  {
   "cell_type": "code",
   "execution_count": 79,
   "id": "7109afd3-b946-4154-a705-106dbfcfc5e0",
   "metadata": {},
   "outputs": [
    {
     "name": "stdout",
     "output_type": "stream",
     "text": [
      "47.985\n"
     ]
    }
   ],
   "source": [
    "median_rev = df['Revenue (Millions)'].median() \n",
    "print(median_rev)"
   ]
  },
  {
   "cell_type": "code",
   "execution_count": 80,
   "id": "bd51d3ed-ced5-4875-a08a-8e0a7bff02e1",
   "metadata": {},
   "outputs": [],
   "source": [
    "df['Revenue (Millions)'].fillna(value=median_rev,inplace=True)"
   ]
  },
  {
   "cell_type": "code",
   "execution_count": 81,
   "id": "d063c439-e6c6-435e-ba14-4ee7649ff510",
   "metadata": {},
   "outputs": [
    {
     "data": {
      "text/plain": [
       "0"
      ]
     },
     "execution_count": 81,
     "metadata": {},
     "output_type": "execute_result"
    }
   ],
   "source": [
    "df['Revenue (Millions)'].isnull().sum()"
   ]
  },
  {
   "cell_type": "code",
   "execution_count": 82,
   "id": "9c0f6198-8235-41b5-9048-11199c6726b0",
   "metadata": {},
   "outputs": [],
   "source": [
    "df.dropna(subset=['Metascore'], inplace=True)\n"
   ]
  },
  {
   "cell_type": "code",
   "execution_count": 83,
   "id": "7a21ae31-6516-451e-81b2-9dd293cf6a45",
   "metadata": {},
   "outputs": [
    {
     "data": {
      "text/plain": [
       "0"
      ]
     },
     "execution_count": 83,
     "metadata": {},
     "output_type": "execute_result"
    }
   ],
   "source": [
    "df['Metascore'].isnull().sum()"
   ]
  },
  {
   "cell_type": "code",
   "execution_count": 84,
   "id": "7be961ec-0735-440e-8cbc-3ce8ecfcdf16",
   "metadata": {},
   "outputs": [
    {
     "data": {
      "text/plain": [
       "(936, 12)"
      ]
     },
     "execution_count": 84,
     "metadata": {},
     "output_type": "execute_result"
    }
   ],
   "source": [
    "df.shape"
   ]
  },
  {
   "cell_type": "code",
   "execution_count": 85,
   "id": "f1862e8a-741c-4b66-8782-a4b9d8142cb3",
   "metadata": {},
   "outputs": [
    {
     "data": {
      "text/plain": [
       "Rank                    int64\n",
       "Title                  object\n",
       "Genre                  object\n",
       "Description            object\n",
       "Director               object\n",
       "Actors                 object\n",
       "Year                    int64\n",
       "Runtime (Minutes)       int64\n",
       "Rating                float64\n",
       "Votes                   int64\n",
       "Revenue (Millions)    float64\n",
       "Metascore             float64\n",
       "dtype: object"
      ]
     },
     "execution_count": 85,
     "metadata": {},
     "output_type": "execute_result"
    }
   ],
   "source": [
    "df.dtypes"
   ]
  },
  {
   "cell_type": "markdown",
   "id": "5ab16bdb-57b9-4457-8b84-c2b8332581d8",
   "metadata": {},
   "source": [
    "## B- Now we have cleaned our data, Our next step will be EDA(Exploratory Data Analysis)"
   ]
  },
  {
   "cell_type": "markdown",
   "id": "0e83a39e-6f47-4de9-b271-eb828669429b",
   "metadata": {},
   "source": [
    "## In this section, we are going to Explore the dataset. This involves asking Questions, Exploring the dataset based on the questions. We will use descriptive statistics and also data visualization to help us explore the dataset.\n",
    "# Questions"
   ]
  },
  {
   "cell_type": "markdown",
   "id": "a7e29198-f050-4bae-bd2e-19a2815c9d4b",
   "metadata": {},
   "source": [
    "##  1.Which director's movie perform overall best in terms of Revenue"
   ]
  },
  {
   "cell_type": "code",
   "execution_count": 86,
   "id": "c055e3cd-5856-4116-8b38-c00830588dc3",
   "metadata": {},
   "outputs": [
    {
     "data": {
      "text/plain": [
       "Ridley Scott          8\n",
       "M. Night Shyamalan    6\n",
       "Paul W.S. Anderson    6\n",
       "Michael Bay           6\n",
       "David Yates           6\n",
       "Name: Director, dtype: int64"
      ]
     },
     "execution_count": 86,
     "metadata": {},
     "output_type": "execute_result"
    }
   ],
   "source": [
    "# Number of movies directed by each director\n",
    "df.Director.value_counts().head(5)"
   ]
  },
  {
   "cell_type": "code",
   "execution_count": 87,
   "id": "1272c005-34e5-475e-8710-18e28052fe6f",
   "metadata": {},
   "outputs": [
    {
     "data": {
      "text/html": [
       "<div>\n",
       "<style scoped>\n",
       "    .dataframe tbody tr th:only-of-type {\n",
       "        vertical-align: middle;\n",
       "    }\n",
       "\n",
       "    .dataframe tbody tr th {\n",
       "        vertical-align: top;\n",
       "    }\n",
       "\n",
       "    .dataframe thead th {\n",
       "        text-align: right;\n",
       "    }\n",
       "</style>\n",
       "<table border=\"1\" class=\"dataframe\">\n",
       "  <thead>\n",
       "    <tr style=\"text-align: right;\">\n",
       "      <th></th>\n",
       "      <th>Revenue (Millions)</th>\n",
       "      <th>No of Movies</th>\n",
       "    </tr>\n",
       "    <tr>\n",
       "      <th>Director</th>\n",
       "      <th></th>\n",
       "      <th></th>\n",
       "    </tr>\n",
       "  </thead>\n",
       "  <tbody>\n",
       "    <tr>\n",
       "      <th>James Cameron</th>\n",
       "      <td>760.510</td>\n",
       "      <td>1</td>\n",
       "    </tr>\n",
       "    <tr>\n",
       "      <th>Colin Trevorrow</th>\n",
       "      <td>652.180</td>\n",
       "      <td>1</td>\n",
       "    </tr>\n",
       "    <tr>\n",
       "      <th>Joss Whedon</th>\n",
       "      <td>541.135</td>\n",
       "      <td>2</td>\n",
       "    </tr>\n",
       "    <tr>\n",
       "      <th>Lee Unkrich</th>\n",
       "      <td>414.980</td>\n",
       "      <td>1</td>\n",
       "    </tr>\n",
       "    <tr>\n",
       "      <th>Gary Ross</th>\n",
       "      <td>408.000</td>\n",
       "      <td>1</td>\n",
       "    </tr>\n",
       "  </tbody>\n",
       "</table>\n",
       "</div>"
      ],
      "text/plain": [
       "                 Revenue (Millions)  No of Movies\n",
       "Director                                         \n",
       "James Cameron               760.510             1\n",
       "Colin Trevorrow             652.180             1\n",
       "Joss Whedon                 541.135             2\n",
       "Lee Unkrich                 414.980             1\n",
       "Gary Ross                   408.000             1"
      ]
     },
     "execution_count": 87,
     "metadata": {},
     "output_type": "execute_result"
    }
   ],
   "source": [
    "top5_revenue_movies = df.groupby('Director').agg({'Revenue (Millions)': 'mean', 'Rank':'count'}).sort_values(by='Revenue (Millions)',ascending=False).head(5)\n",
    "top5_revenue_movies.rename(columns={'Rank': 'No of Movies'},inplace=True)\n",
    "top5_revenue_movies"
   ]
  },
  {
   "cell_type": "markdown",
   "id": "97f237ac-a676-4ee0-9672-a6f1b5648c90",
   "metadata": {},
   "source": [
    "## Visualize the result "
   ]
  },
  {
   "cell_type": "code",
   "execution_count": 88,
   "id": "e1645ca2-806a-4696-9c9e-73a067ecd50b",
   "metadata": {},
   "outputs": [
    {
     "data": {
      "image/png": "[encoded data removed]",
      "text/plain": [
       "<Figure size 720x432 with 1 Axes>"
      ]
     },
     "metadata": {
      "needs_background": "light"
     },
     "output_type": "display_data"
    }
   ],
   "source": [
    "f, ax = plt.subplots(1,figsize=(10,6))\n",
    "top5_revenue_movies['Revenue (Millions)'].plot.bar(color=['b', 'r', 'g', 'y', 'k'],ax=ax)\n",
    "ax.set_ylabel('Revenue in Millions')\n",
    "ax.set_title('Average Revenue of Top 5 Directors by Revenue', y=1.02)\n",
    "ax.set_xticklabels(top5_revenue_movies.index, rotation = 45);\n"
   ]
  },
  {
   "cell_type": "markdown",
   "id": "a0e82128-51a2-400a-9f08-94704608dcbf",
   "metadata": {},
   "source": [
    "## 2.Movie which receive highest of all time in terms of Revenue"
   ]
  },
  {
   "cell_type": "code",
   "execution_count": 89,
   "id": "4c8720ac-7a8e-471f-baa3-5253160f3bf4",
   "metadata": {},
   "outputs": [
    {
     "data": {
      "text/html": [
       "<div>\n",
       "<style scoped>\n",
       "    .dataframe tbody tr th:only-of-type {\n",
       "        vertical-align: middle;\n",
       "    }\n",
       "\n",
       "    .dataframe tbody tr th {\n",
       "        vertical-align: top;\n",
       "    }\n",
       "\n",
       "    .dataframe thead th {\n",
       "        text-align: right;\n",
       "    }\n",
       "</style>\n",
       "<table border=\"1\" class=\"dataframe\">\n",
       "  <thead>\n",
       "    <tr style=\"text-align: right;\">\n",
       "      <th></th>\n",
       "      <th>Title</th>\n",
       "      <th>Director</th>\n",
       "      <th>Revenue (Millions)</th>\n",
       "    </tr>\n",
       "  </thead>\n",
       "  <tbody>\n",
       "    <tr>\n",
       "      <th>50</th>\n",
       "      <td>Star Wars: Episode VII - The Force Awakens</td>\n",
       "      <td>J.J. Abrams</td>\n",
       "      <td>936.63</td>\n",
       "    </tr>\n",
       "  </tbody>\n",
       "</table>\n",
       "</div>"
      ],
      "text/plain": [
       "                                         Title     Director  \\\n",
       "50  Star Wars: Episode VII - The Force Awakens  J.J. Abrams   \n",
       "\n",
       "    Revenue (Millions)  \n",
       "50              936.63  "
      ]
     },
     "execution_count": 89,
     "metadata": {},
     "output_type": "execute_result"
    }
   ],
   "source": [
    "\n",
    "df[df['Revenue (Millions)'] == df['Revenue (Millions)'].max()][['Title','Director','Revenue (Millions)']]"
   ]
  },
  {
   "cell_type": "markdown",
   "id": "d4698449-11dd-4230-b95d-037ff2804016",
   "metadata": {},
   "source": [
    "## 3.We want to see Top 5 director names whose movies perform overall  well in terms of Rating"
   ]
  },
  {
   "cell_type": "code",
   "execution_count": 90,
   "id": "ef0cde6f-ec4a-4e20-b984-cc65d34ff31e",
   "metadata": {},
   "outputs": [
    {
     "data": {
      "text/html": [
       "<div>\n",
       "<style scoped>\n",
       "    .dataframe tbody tr th:only-of-type {\n",
       "        vertical-align: middle;\n",
       "    }\n",
       "\n",
       "    .dataframe tbody tr th {\n",
       "        vertical-align: top;\n",
       "    }\n",
       "\n",
       "    .dataframe thead th {\n",
       "        text-align: right;\n",
       "    }\n",
       "</style>\n",
       "<table border=\"1\" class=\"dataframe\">\n",
       "  <thead>\n",
       "    <tr style=\"text-align: right;\">\n",
       "      <th></th>\n",
       "      <th>Rating</th>\n",
       "    </tr>\n",
       "    <tr>\n",
       "      <th>Director</th>\n",
       "      <th></th>\n",
       "    </tr>\n",
       "  </thead>\n",
       "  <tbody>\n",
       "    <tr>\n",
       "      <th>Christopher Nolan</th>\n",
       "      <td>8.68</td>\n",
       "    </tr>\n",
       "    <tr>\n",
       "      <th>Makoto Shinkai</th>\n",
       "      <td>8.60</td>\n",
       "    </tr>\n",
       "    <tr>\n",
       "      <th>Olivier Nakache</th>\n",
       "      <td>8.60</td>\n",
       "    </tr>\n",
       "    <tr>\n",
       "      <th>Aamir Khan</th>\n",
       "      <td>8.50</td>\n",
       "    </tr>\n",
       "    <tr>\n",
       "      <th>Florian Henckel von Donnersmarck</th>\n",
       "      <td>8.50</td>\n",
       "    </tr>\n",
       "  </tbody>\n",
       "</table>\n",
       "</div>"
      ],
      "text/plain": [
       "                                  Rating\n",
       "Director                                \n",
       "Christopher Nolan                   8.68\n",
       "Makoto Shinkai                      8.60\n",
       "Olivier Nakache                     8.60\n",
       "Aamir Khan                          8.50\n",
       "Florian Henckel von Donnersmarck    8.50"
      ]
     },
     "execution_count": 90,
     "metadata": {},
     "output_type": "execute_result"
    }
   ],
   "source": [
    "top_5_high_rating = df.groupby('Director').agg({'Rating':'mean'}).sort_values(by='Rating',ascending=False).head(5)\n",
    "top_5_high_rating"
   ]
  },
  {
   "cell_type": "code",
   "execution_count": 91,
   "id": "9a9eec9f-a4a2-4916-b2e0-cae53a68406a",
   "metadata": {},
   "outputs": [
    {
     "data": {
      "image/png": "[encoded data removed]",
      "text/plain": [
       "<Figure size 1080x576 with 1 Axes>"
      ]
     },
     "metadata": {},
     "output_type": "display_data"
    }
   ],
   "source": [
    "# top 5 Director in terms of rating \n",
    "sns.set_theme(context='notebook',palette='viridis' ,style='whitegrid')\n",
    "f, ax = plt.subplots(1,figsize=(15,8))\n",
    "top_5_high_rating['Rating'].plot.bar(color=['b', 'r', 'g', 'y', 'k'],ax=ax)\n",
    "ax.set_ylabel('Rating')\n",
    "ax.set_title('Average Revenue of Top 5 Directors by Rating', y=1.05,fontsize=25, weight='bold')\n",
    "ax.set_xticklabels(top_5_high_rating.index, rotation = 45);\n"
   ]
  },
  {
   "cell_type": "code",
   "execution_count": 92,
   "id": "280231aa-ac89-4385-9844-040984bf8955",
   "metadata": {},
   "outputs": [
    {
     "data": {
      "text/html": [
       "<div>\n",
       "<style scoped>\n",
       "    .dataframe tbody tr th:only-of-type {\n",
       "        vertical-align: middle;\n",
       "    }\n",
       "\n",
       "    .dataframe tbody tr th {\n",
       "        vertical-align: top;\n",
       "    }\n",
       "\n",
       "    .dataframe thead th {\n",
       "        text-align: right;\n",
       "    }\n",
       "</style>\n",
       "<table border=\"1\" class=\"dataframe\">\n",
       "  <thead>\n",
       "    <tr style=\"text-align: right;\">\n",
       "      <th></th>\n",
       "      <th>Director</th>\n",
       "      <th>Rating</th>\n",
       "    </tr>\n",
       "  </thead>\n",
       "  <tbody>\n",
       "    <tr>\n",
       "      <th>54</th>\n",
       "      <td>Christopher Nolan</td>\n",
       "      <td>9.0</td>\n",
       "    </tr>\n",
       "  </tbody>\n",
       "</table>\n",
       "</div>"
      ],
      "text/plain": [
       "             Director  Rating\n",
       "54  Christopher Nolan     9.0"
      ]
     },
     "execution_count": 92,
     "metadata": {},
     "output_type": "execute_result"
    }
   ],
   "source": [
    "# highest Rating\n",
    "df[df['Rating'] == df['Rating'].max()][['Director','Rating']]\n"
   ]
  },
  {
   "cell_type": "code",
   "execution_count": 93,
   "id": "3725755b-8a2a-4864-bf96-5282d7cafc64",
   "metadata": {},
   "outputs": [],
   "source": [
    "# we can do same plot with seaborn \n",
    "# sns.set_theme(context='notebook',style='whitegrid')\n",
    "# f, ax = plt.subplots(1,figsize=(15,8))\n",
    "# sns.barplot(x=top_5_high_rating.index.to_list(), y=top_5_high_rating['Rating'],ax=ax)\n",
    "\n",
    "\n",
    "# ax.set_xticklabels(top_5_high_rating.index, rotation = 45)"
   ]
  },
  {
   "cell_type": "markdown",
   "id": "87accf6f-a749-428f-84ff-744b92461d64",
   "metadata": {},
   "source": [
    "## 4. Find out the top 5 directors by Metacritic Score"
   ]
  },
  {
   "cell_type": "code",
   "execution_count": 94,
   "id": "aaf1faf6-d6f1-4f6a-8bc7-7894c8f1c8df",
   "metadata": {},
   "outputs": [
    {
     "data": {
      "text/html": [
       "<div>\n",
       "<style scoped>\n",
       "    .dataframe tbody tr th:only-of-type {\n",
       "        vertical-align: middle;\n",
       "    }\n",
       "\n",
       "    .dataframe tbody tr th {\n",
       "        vertical-align: top;\n",
       "    }\n",
       "\n",
       "    .dataframe thead th {\n",
       "        text-align: right;\n",
       "    }\n",
       "</style>\n",
       "<table border=\"1\" class=\"dataframe\">\n",
       "  <thead>\n",
       "    <tr style=\"text-align: right;\">\n",
       "      <th></th>\n",
       "      <th>Metascore</th>\n",
       "      <th>Movies Count</th>\n",
       "    </tr>\n",
       "    <tr>\n",
       "      <th>Director</th>\n",
       "      <th></th>\n",
       "      <th></th>\n",
       "    </tr>\n",
       "  </thead>\n",
       "  <tbody>\n",
       "    <tr>\n",
       "      <th>Barry Jenkins</th>\n",
       "      <td>99.0</td>\n",
       "      <td>1</td>\n",
       "    </tr>\n",
       "    <tr>\n",
       "      <th>Kenneth Lonergan</th>\n",
       "      <td>96.0</td>\n",
       "      <td>1</td>\n",
       "    </tr>\n",
       "    <tr>\n",
       "      <th>Todd Haynes</th>\n",
       "      <td>95.0</td>\n",
       "      <td>1</td>\n",
       "    </tr>\n",
       "    <tr>\n",
       "      <th>Kathryn Bigelow</th>\n",
       "      <td>94.5</td>\n",
       "      <td>2</td>\n",
       "    </tr>\n",
       "    <tr>\n",
       "      <th>Michael Goi</th>\n",
       "      <td>94.0</td>\n",
       "      <td>1</td>\n",
       "    </tr>\n",
       "  </tbody>\n",
       "</table>\n",
       "</div>"
      ],
      "text/plain": [
       "                  Metascore  Movies Count\n",
       "Director                                 \n",
       "Barry Jenkins          99.0             1\n",
       "Kenneth Lonergan       96.0             1\n",
       "Todd Haynes            95.0             1\n",
       "Kathryn Bigelow        94.5             2\n",
       "Michael Goi            94.0             1"
      ]
     },
     "execution_count": 94,
     "metadata": {},
     "output_type": "execute_result"
    }
   ],
   "source": [
    "\n",
    "meta_directors = df.groupby('Director').agg({'Metascore': 'mean', 'Rank': 'count'})\n",
    "top_5_meta_directors = meta_directors.rename(columns={'Rank': 'Movies Count'}).sort_values('Metascore', ascending=False)[:5]\n",
    "top_5_meta_directors"
   ]
  },
  {
   "cell_type": "code",
   "execution_count": 95,
   "id": "311260d4-db9f-4ab2-bcaa-24a5ddd66699",
   "metadata": {},
   "outputs": [
    {
     "data": {
      "image/png": "[encoded data removed]",
      "text/plain": [
       "<Figure size 1080x576 with 1 Axes>"
      ]
     },
     "metadata": {},
     "output_type": "display_data"
    }
   ],
   "source": [
    "# Plot the result\n",
    "f,ax = plt.subplots(1,figsize=(15,8))\n",
    "ax = top_5_meta_directors['Metascore'].plot.bar(color=['blue', 'orange','green','red','yellow']);\n",
    "ax.set_ylabel('Metascore',fontsize=20)\n",
    "ax.set_xlabel('Director',fontsize=20)\n",
    "ax.set_title('Average Metascore of Top 5 Directors by Metascore', y=1.02,fontsize=25, fontweight='bold')\n",
    "ax.set_xticklabels(top_5_meta_directors.index, rotation = 45);"
   ]
  },
  {
   "cell_type": "markdown",
   "id": "17fe75b2-5459-4e04-ae43-9a8bf7da9424",
   "metadata": {},
   "source": [
    "## 6. How does the runtime of movies affect them?"
   ]
  },
  {
   "cell_type": "code",
   "execution_count": 96,
   "id": "2f951be0-180b-4350-bc98-491a6ca9ef1d",
   "metadata": {},
   "outputs": [
    {
     "data": {
      "text/plain": [
       "count    936.000000\n",
       "mean     113.272436\n",
       "std       18.550798\n",
       "min       66.000000\n",
       "25%      100.000000\n",
       "50%      111.000000\n",
       "75%      123.000000\n",
       "max      187.000000\n",
       "Name: Runtime (Minutes), dtype: float64"
      ]
     },
     "execution_count": 96,
     "metadata": {},
     "output_type": "execute_result"
    }
   ],
   "source": [
    "df['Runtime (Minutes)'].describe()"
   ]
  },
  {
   "cell_type": "code",
   "execution_count": 97,
   "id": "61bb212f-3a0f-4c32-8599-a7630e18193e",
   "metadata": {},
   "outputs": [
    {
     "data": {
      "text/plain": [
       "<AxesSubplot:ylabel='Frequency'>"
      ]
     },
     "execution_count": 97,
     "metadata": {},
     "output_type": "execute_result"
    },
    {
     "data": {
      "image/png": "[encoded data removed]",
      "text/plain": [
       "<Figure size 432x288 with 1 Axes>"
      ]
     },
     "metadata": {},
     "output_type": "display_data"
    }
   ],
   "source": [
    "# Plot the distribution of the runtime column\n",
    "df['Runtime (Minutes)'].plot.hist()"
   ]
  },
  {
   "cell_type": "markdown",
   "id": "23298acf-eb38-4896-9a7e-1aaa24e0cdc7",
   "metadata": {},
   "source": [
    "#### I am going to classify the Runtime into different levels based on the output from the describe method\n",
    "#### Runtime(in minutes)\tLevel\n",
    "#### 66-100\tShort\n",
    "#### 100-111\tMedium\n",
    "#### 111-123\tModerately Long\n",
    "#### 123-187\tLon"
   ]
  },
  {
   "cell_type": "code",
   "execution_count": 98,
   "id": "b8813847-06fd-4e0b-9c70-a61d3e7943ae",
   "metadata": {},
   "outputs": [
    {
     "data": {
      "text/html": [
       "<div>\n",
       "<style scoped>\n",
       "    .dataframe tbody tr th:only-of-type {\n",
       "        vertical-align: middle;\n",
       "    }\n",
       "\n",
       "    .dataframe tbody tr th {\n",
       "        vertical-align: top;\n",
       "    }\n",
       "\n",
       "    .dataframe thead th {\n",
       "        text-align: right;\n",
       "    }\n",
       "</style>\n",
       "<table border=\"1\" class=\"dataframe\">\n",
       "  <thead>\n",
       "    <tr style=\"text-align: right;\">\n",
       "      <th></th>\n",
       "      <th>Rank</th>\n",
       "      <th>Title</th>\n",
       "      <th>Genre</th>\n",
       "      <th>Description</th>\n",
       "      <th>Director</th>\n",
       "      <th>Actors</th>\n",
       "      <th>Year</th>\n",
       "      <th>Runtime (Minutes)</th>\n",
       "      <th>Rating</th>\n",
       "      <th>Votes</th>\n",
       "      <th>Revenue (Millions)</th>\n",
       "      <th>Metascore</th>\n",
       "      <th>Runtime_level</th>\n",
       "    </tr>\n",
       "  </thead>\n",
       "  <tbody>\n",
       "    <tr>\n",
       "      <th>0</th>\n",
       "      <td>1</td>\n",
       "      <td>Guardians of the Galaxy</td>\n",
       "      <td>Action,Adventure,Sci-Fi</td>\n",
       "      <td>A group of intergalactic criminals are forced ...</td>\n",
       "      <td>James Gunn</td>\n",
       "      <td>Chris Pratt, Vin Diesel, Bradley Cooper, Zoe S...</td>\n",
       "      <td>2014</td>\n",
       "      <td>121</td>\n",
       "      <td>8.1</td>\n",
       "      <td>757074</td>\n",
       "      <td>333.13</td>\n",
       "      <td>76.0</td>\n",
       "      <td>Moderately Long</td>\n",
       "    </tr>\n",
       "    <tr>\n",
       "      <th>1</th>\n",
       "      <td>2</td>\n",
       "      <td>Prometheus</td>\n",
       "      <td>Adventure,Mystery,Sci-Fi</td>\n",
       "      <td>Following clues to the origin of mankind, a te...</td>\n",
       "      <td>Ridley Scott</td>\n",
       "      <td>Noomi Rapace, Logan Marshall-Green, Michael Fa...</td>\n",
       "      <td>2012</td>\n",
       "      <td>124</td>\n",
       "      <td>7.0</td>\n",
       "      <td>485820</td>\n",
       "      <td>126.46</td>\n",
       "      <td>65.0</td>\n",
       "      <td>Long</td>\n",
       "    </tr>\n",
       "    <tr>\n",
       "      <th>2</th>\n",
       "      <td>3</td>\n",
       "      <td>Split</td>\n",
       "      <td>Horror,Thriller</td>\n",
       "      <td>Three girls are kidnapped by a man with a diag...</td>\n",
       "      <td>M. Night Shyamalan</td>\n",
       "      <td>James McAvoy, Anya Taylor-Joy, Haley Lu Richar...</td>\n",
       "      <td>2016</td>\n",
       "      <td>117</td>\n",
       "      <td>7.3</td>\n",
       "      <td>157606</td>\n",
       "      <td>138.12</td>\n",
       "      <td>62.0</td>\n",
       "      <td>Moderately Long</td>\n",
       "    </tr>\n",
       "    <tr>\n",
       "      <th>3</th>\n",
       "      <td>4</td>\n",
       "      <td>Sing</td>\n",
       "      <td>Animation,Comedy,Family</td>\n",
       "      <td>In a city of humanoid animals, a hustling thea...</td>\n",
       "      <td>Christophe Lourdelet</td>\n",
       "      <td>Matthew McConaughey,Reese Witherspoon, Seth Ma...</td>\n",
       "      <td>2016</td>\n",
       "      <td>108</td>\n",
       "      <td>7.2</td>\n",
       "      <td>60545</td>\n",
       "      <td>270.32</td>\n",
       "      <td>59.0</td>\n",
       "      <td>Medium</td>\n",
       "    </tr>\n",
       "    <tr>\n",
       "      <th>4</th>\n",
       "      <td>5</td>\n",
       "      <td>Suicide Squad</td>\n",
       "      <td>Action,Adventure,Fantasy</td>\n",
       "      <td>A secret government agency recruits some of th...</td>\n",
       "      <td>David Ayer</td>\n",
       "      <td>Will Smith, Jared Leto, Margot Robbie, Viola D...</td>\n",
       "      <td>2016</td>\n",
       "      <td>123</td>\n",
       "      <td>6.2</td>\n",
       "      <td>393727</td>\n",
       "      <td>325.02</td>\n",
       "      <td>40.0</td>\n",
       "      <td>Moderately Long</td>\n",
       "    </tr>\n",
       "  </tbody>\n",
       "</table>\n",
       "</div>"
      ],
      "text/plain": [
       "   Rank                    Title                     Genre  \\\n",
       "0     1  Guardians of the Galaxy   Action,Adventure,Sci-Fi   \n",
       "1     2               Prometheus  Adventure,Mystery,Sci-Fi   \n",
       "2     3                    Split           Horror,Thriller   \n",
       "3     4                     Sing   Animation,Comedy,Family   \n",
       "4     5            Suicide Squad  Action,Adventure,Fantasy   \n",
       "\n",
       "                                         Description              Director  \\\n",
       "0  A group of intergalactic criminals are forced ...            James Gunn   \n",
       "1  Following clues to the origin of mankind, a te...          Ridley Scott   \n",
       "2  Three girls are kidnapped by a man with a diag...    M. Night Shyamalan   \n",
       "3  In a city of humanoid animals, a hustling thea...  Christophe Lourdelet   \n",
       "4  A secret government agency recruits some of th...            David Ayer   \n",
       "\n",
       "                                              Actors  Year  Runtime (Minutes)  \\\n",
       "0  Chris Pratt, Vin Diesel, Bradley Cooper, Zoe S...  2014                121   \n",
       "1  Noomi Rapace, Logan Marshall-Green, Michael Fa...  2012                124   \n",
       "2  James McAvoy, Anya Taylor-Joy, Haley Lu Richar...  2016                117   \n",
       "3  Matthew McConaughey,Reese Witherspoon, Seth Ma...  2016                108   \n",
       "4  Will Smith, Jared Leto, Margot Robbie, Viola D...  2016                123   \n",
       "\n",
       "   Rating   Votes  Revenue (Millions)  Metascore    Runtime_level  \n",
       "0     8.1  757074              333.13       76.0  Moderately Long  \n",
       "1     7.0  485820              126.46       65.0             Long  \n",
       "2     7.3  157606              138.12       62.0  Moderately Long  \n",
       "3     7.2   60545              270.32       59.0           Medium  \n",
       "4     6.2  393727              325.02       40.0  Moderately Long  "
      ]
     },
     "execution_count": 98,
     "metadata": {},
     "output_type": "execute_result"
    }
   ],
   "source": [
    "runtime_bin_edges = [66,100,111,123,187]\n",
    "runtime_bin_names = ['Short','Medium','Moderately Long','Long']\n",
    "df['Runtime_level'] = pd.cut(df['Runtime (Minutes)'], bins = runtime_bin_edges,labels=runtime_bin_names)\n",
    "df.head()"
   ]
  },
  {
   "cell_type": "code",
   "execution_count": 99,
   "id": "4000d380-c4ec-4bd6-9f01-1ea1d32dbb36",
   "metadata": {},
   "outputs": [
    {
     "data": {
      "text/plain": [
       "Text(0.5, 1.02, 'Movies Count of each Runtime level')"
      ]
     },
     "execution_count": 99,
     "metadata": {},
     "output_type": "execute_result"
    },
    {
     "data": {
      "image/png": "[encoded data removed]",
      "text/plain": [
       "<Figure size 720x576 with 1 Axes>"
      ]
     },
     "metadata": {},
     "output_type": "display_data"
    }
   ],
   "source": [
    "f,ax = plt.subplots(1, figsize=(10,8))\n",
    "df['Runtime_level'].value_counts().plot.bar(color=['blue', 'orange','green','red','yellow'])\n",
    "ax.set_ylabel('Movies Count');\n",
    "ax.set_xlabel('Runtime Levels')\n",
    "ax.set_xticklabels(df.Runtime_level.value_counts().index, rotation = 45);\n",
    "ax.set_title('Movies Count of each Runtime level', y=1.02)"
   ]
  },
  {
   "cell_type": "markdown",
   "id": "bf90033f-934c-4b72-a762-5c6687b5aa7e",
   "metadata": {},
   "source": [
    "## 7. which Runtime Intervel receives highest mean revenue,rating and metascore"
   ]
  },
  {
   "cell_type": "code",
   "execution_count": 100,
   "id": "dee0944a-8144-421e-8575-fa8dacc952b9",
   "metadata": {},
   "outputs": [
    {
     "data": {
      "text/plain": [
       "0      Moderately Long\n",
       "1                 Long\n",
       "2      Moderately Long\n",
       "3               Medium\n",
       "4      Moderately Long\n",
       "            ...       \n",
       "995             Medium\n",
       "996              Short\n",
       "997              Short\n",
       "998              Short\n",
       "999              Short\n",
       "Name: Runtime_level, Length: 936, dtype: category\n",
       "Categories (4, object): ['Short' < 'Medium' < 'Moderately Long' < 'Long']"
      ]
     },
     "execution_count": 100,
     "metadata": {},
     "output_type": "execute_result"
    }
   ],
   "source": [
    "df['Runtime_level']"
   ]
  },
  {
   "cell_type": "code",
   "execution_count": 101,
   "id": "e6862744-4042-4038-8078-19815cfd7a4a",
   "metadata": {},
   "outputs": [
    {
     "name": "stderr",
     "output_type": "stream",
     "text": [
      "C:\\Users\\ansar\\AppData\\Local\\Temp\\ipykernel_1576\\2196378699.py:1: FutureWarning: Indexing with multiple keys (implicitly converted to a tuple of keys) will be deprecated, use a list instead.\n",
      "  run_stats = df.groupby('Runtime_level')['Revenue (Millions)', 'Rating', 'Metascore'].mean()\n"
     ]
    },
    {
     "data": {
      "text/html": [
       "<div>\n",
       "<style scoped>\n",
       "    .dataframe tbody tr th:only-of-type {\n",
       "        vertical-align: middle;\n",
       "    }\n",
       "\n",
       "    .dataframe tbody tr th {\n",
       "        vertical-align: top;\n",
       "    }\n",
       "\n",
       "    .dataframe thead th {\n",
       "        text-align: right;\n",
       "    }\n",
       "</style>\n",
       "<table border=\"1\" class=\"dataframe\">\n",
       "  <thead>\n",
       "    <tr style=\"text-align: right;\">\n",
       "      <th></th>\n",
       "      <th>Revenue (Millions)</th>\n",
       "      <th>Rating</th>\n",
       "      <th>Metascore</th>\n",
       "    </tr>\n",
       "    <tr>\n",
       "      <th>Runtime_level</th>\n",
       "      <th></th>\n",
       "      <th></th>\n",
       "      <th></th>\n",
       "    </tr>\n",
       "  </thead>\n",
       "  <tbody>\n",
       "    <tr>\n",
       "      <th>Short</th>\n",
       "      <td>58.164940</td>\n",
       "      <td>6.327381</td>\n",
       "      <td>56.456349</td>\n",
       "    </tr>\n",
       "    <tr>\n",
       "      <th>Medium</th>\n",
       "      <td>66.974196</td>\n",
       "      <td>6.579130</td>\n",
       "      <td>55.273913</td>\n",
       "    </tr>\n",
       "    <tr>\n",
       "      <th>Moderately Long</th>\n",
       "      <td>66.366244</td>\n",
       "      <td>6.848869</td>\n",
       "      <td>59.276018</td>\n",
       "    </tr>\n",
       "    <tr>\n",
       "      <th>Long</th>\n",
       "      <td>132.925733</td>\n",
       "      <td>7.195690</td>\n",
       "      <td>65.021552</td>\n",
       "    </tr>\n",
       "  </tbody>\n",
       "</table>\n",
       "</div>"
      ],
      "text/plain": [
       "                 Revenue (Millions)    Rating  Metascore\n",
       "Runtime_level                                           \n",
       "Short                     58.164940  6.327381  56.456349\n",
       "Medium                    66.974196  6.579130  55.273913\n",
       "Moderately Long           66.366244  6.848869  59.276018\n",
       "Long                     132.925733  7.195690  65.021552"
      ]
     },
     "execution_count": 101,
     "metadata": {},
     "output_type": "execute_result"
    }
   ],
   "source": [
    "run_stats = df.groupby('Runtime_level')['Revenue (Millions)', 'Rating', 'Metascore'].mean()\n",
    "run_stats"
   ]
  },
  {
   "cell_type": "code",
   "execution_count": 102,
   "id": "ec21b1a2-11a4-47e6-a3c0-171cc7c81e01",
   "metadata": {},
   "outputs": [
    {
     "data": {
      "text/plain": [
       "[Text(0, 0, 'Short'),\n",
       " Text(1, 0, 'Medium'),\n",
       " Text(2, 0, 'Moderately Long'),\n",
       " Text(3, 0, 'Long')]"
      ]
     },
     "execution_count": 102,
     "metadata": {},
     "output_type": "execute_result"
    },
    {
     "data": {
      "image/png": "[encoded data removed]",
      "text/plain": [
       "<Figure size 720x720 with 3 Axes>"
      ]
     },
     "metadata": {},
     "output_type": "display_data"
    }
   ],
   "source": [
    "ax1,ax2,ax3 = run_stats.plot.bar(subplots=True,color=['blue','red','green'])\n",
    "fig = ax1.get_figure()\n",
    "fig.set_size_inches(10, 10)\n",
    "ax3.set_xticklabels(run_stats.index, rotation= 45)"
   ]
  },
  {
   "cell_type": "markdown",
   "id": "49ca904c-030c-4973-ac10-6b57e9ade6b6",
   "metadata": {},
   "source": [
    "## 1. In general, movies that have Long Runtimes (greater than 123 minutes) earns higher Revenue, more popular and critically acclaimed.\n",
    "## 2. As the Runtime increases the movies tends to earn higher Revenue, higher popularity and critical acclaim\n",
    "## 3. It should be noted that, movies with Runtime (greater than 123 minutes) beats other movies in terms of Revenue by a significant margin."
   ]
  },
  {
   "cell_type": "code",
   "execution_count": 103,
   "id": "e2640e93-35f7-4efe-bf56-a49e56b5eec9",
   "metadata": {},
   "outputs": [
    {
     "data": {
      "text/plain": [
       "0       Action,Adventure,Sci-Fi\n",
       "1      Adventure,Mystery,Sci-Fi\n",
       "2               Horror,Thriller\n",
       "3       Animation,Comedy,Family\n",
       "4      Action,Adventure,Fantasy\n",
       "                 ...           \n",
       "995         Crime,Drama,Mystery\n",
       "996                      Horror\n",
       "997         Drama,Music,Romance\n",
       "998            Adventure,Comedy\n",
       "999       Comedy,Family,Fantasy\n",
       "Name: Genre, Length: 936, dtype: object"
      ]
     },
     "execution_count": 103,
     "metadata": {},
     "output_type": "execute_result"
    }
   ],
   "source": [
    "df['Genre']"
   ]
  },
  {
   "cell_type": "code",
   "execution_count": 104,
   "id": "698c022a-2172-4538-a259-ddc531f1c462",
   "metadata": {},
   "outputs": [],
   "source": [
    "df['Genre_count'] = df.Genre.str.split(',').str.len()"
   ]
  },
  {
   "cell_type": "code",
   "execution_count": 105,
   "id": "407cf552-093b-4b33-a455-7aa370fc534e",
   "metadata": {},
   "outputs": [
    {
     "data": {
      "text/html": [
       "<div>\n",
       "<style scoped>\n",
       "    .dataframe tbody tr th:only-of-type {\n",
       "        vertical-align: middle;\n",
       "    }\n",
       "\n",
       "    .dataframe tbody tr th {\n",
       "        vertical-align: top;\n",
       "    }\n",
       "\n",
       "    .dataframe thead th {\n",
       "        text-align: right;\n",
       "    }\n",
       "</style>\n",
       "<table border=\"1\" class=\"dataframe\">\n",
       "  <thead>\n",
       "    <tr style=\"text-align: right;\">\n",
       "      <th></th>\n",
       "      <th>Title</th>\n",
       "      <th>Genre_count</th>\n",
       "    </tr>\n",
       "  </thead>\n",
       "  <tbody>\n",
       "    <tr>\n",
       "      <th>0</th>\n",
       "      <td>Guardians of the Galaxy</td>\n",
       "      <td>3</td>\n",
       "    </tr>\n",
       "    <tr>\n",
       "      <th>1</th>\n",
       "      <td>Prometheus</td>\n",
       "      <td>3</td>\n",
       "    </tr>\n",
       "    <tr>\n",
       "      <th>2</th>\n",
       "      <td>Split</td>\n",
       "      <td>2</td>\n",
       "    </tr>\n",
       "    <tr>\n",
       "      <th>3</th>\n",
       "      <td>Sing</td>\n",
       "      <td>3</td>\n",
       "    </tr>\n",
       "    <tr>\n",
       "      <th>4</th>\n",
       "      <td>Suicide Squad</td>\n",
       "      <td>3</td>\n",
       "    </tr>\n",
       "    <tr>\n",
       "      <th>...</th>\n",
       "      <td>...</td>\n",
       "      <td>...</td>\n",
       "    </tr>\n",
       "    <tr>\n",
       "      <th>995</th>\n",
       "      <td>Secret in Their Eyes</td>\n",
       "      <td>3</td>\n",
       "    </tr>\n",
       "    <tr>\n",
       "      <th>996</th>\n",
       "      <td>Hostel: Part II</td>\n",
       "      <td>1</td>\n",
       "    </tr>\n",
       "    <tr>\n",
       "      <th>997</th>\n",
       "      <td>Step Up 2: The Streets</td>\n",
       "      <td>3</td>\n",
       "    </tr>\n",
       "    <tr>\n",
       "      <th>998</th>\n",
       "      <td>Search Party</td>\n",
       "      <td>2</td>\n",
       "    </tr>\n",
       "    <tr>\n",
       "      <th>999</th>\n",
       "      <td>Nine Lives</td>\n",
       "      <td>3</td>\n",
       "    </tr>\n",
       "  </tbody>\n",
       "</table>\n",
       "<p>936 rows × 2 columns</p>\n",
       "</div>"
      ],
      "text/plain": [
       "                       Title  Genre_count\n",
       "0    Guardians of the Galaxy            3\n",
       "1                 Prometheus            3\n",
       "2                      Split            2\n",
       "3                       Sing            3\n",
       "4              Suicide Squad            3\n",
       "..                       ...          ...\n",
       "995     Secret in Their Eyes            3\n",
       "996          Hostel: Part II            1\n",
       "997   Step Up 2: The Streets            3\n",
       "998             Search Party            2\n",
       "999               Nine Lives            3\n",
       "\n",
       "[936 rows x 2 columns]"
      ]
     },
     "execution_count": 105,
     "metadata": {},
     "output_type": "execute_result"
    }
   ],
   "source": [
    "df[['Title','Genre_count']]"
   ]
  },
  {
   "cell_type": "code",
   "execution_count": 106,
   "id": "3b528746-4b79-4cd9-8811-000fb0460b5e",
   "metadata": {},
   "outputs": [
    {
     "name": "stderr",
     "output_type": "stream",
     "text": [
      "C:\\Users\\ansar\\AppData\\Local\\Temp\\ipykernel_1576\\1161463633.py:1: FutureWarning: Indexing with multiple keys (implicitly converted to a tuple of keys) will be deprecated, use a list instead.\n",
      "  genre_count_stats = df.groupby('Genre_count')['Revenue (Millions)', 'Rating', 'Metascore'].mean()\n"
     ]
    },
    {
     "data": {
      "text/html": [
       "<div>\n",
       "<style scoped>\n",
       "    .dataframe tbody tr th:only-of-type {\n",
       "        vertical-align: middle;\n",
       "    }\n",
       "\n",
       "    .dataframe tbody tr th {\n",
       "        vertical-align: top;\n",
       "    }\n",
       "\n",
       "    .dataframe thead th {\n",
       "        text-align: right;\n",
       "    }\n",
       "</style>\n",
       "<table border=\"1\" class=\"dataframe\">\n",
       "  <thead>\n",
       "    <tr style=\"text-align: right;\">\n",
       "      <th></th>\n",
       "      <th>Revenue (Millions)</th>\n",
       "      <th>Rating</th>\n",
       "      <th>Metascore</th>\n",
       "    </tr>\n",
       "    <tr>\n",
       "      <th>Genre_count</th>\n",
       "      <th></th>\n",
       "      <th></th>\n",
       "      <th></th>\n",
       "    </tr>\n",
       "  </thead>\n",
       "  <tbody>\n",
       "    <tr>\n",
       "      <th>1</th>\n",
       "      <td>46.641848</td>\n",
       "      <td>6.365217</td>\n",
       "      <td>58.793478</td>\n",
       "    </tr>\n",
       "    <tr>\n",
       "      <th>2</th>\n",
       "      <td>55.710591</td>\n",
       "      <td>6.695455</td>\n",
       "      <td>58.677273</td>\n",
       "    </tr>\n",
       "    <tr>\n",
       "      <th>3</th>\n",
       "      <td>94.583734</td>\n",
       "      <td>6.794712</td>\n",
       "      <td>59.121795</td>\n",
       "    </tr>\n",
       "  </tbody>\n",
       "</table>\n",
       "</div>"
      ],
      "text/plain": [
       "             Revenue (Millions)    Rating  Metascore\n",
       "Genre_count                                         \n",
       "1                     46.641848  6.365217  58.793478\n",
       "2                     55.710591  6.695455  58.677273\n",
       "3                     94.583734  6.794712  59.121795"
      ]
     },
     "execution_count": 106,
     "metadata": {},
     "output_type": "execute_result"
    }
   ],
   "source": [
    "genre_count_stats = df.groupby('Genre_count')['Revenue (Millions)', 'Rating', 'Metascore'].mean()\n",
    "genre_count_stats"
   ]
  },
  {
   "cell_type": "code",
   "execution_count": 107,
   "id": "54b3d302-a2d6-4546-ba54-5898d019d285",
   "metadata": {},
   "outputs": [
    {
     "data": {
      "image/png": "[encoded data removed]",
      "text/plain": [
       "<Figure size 720x720 with 3 Axes>"
      ]
     },
     "metadata": {},
     "output_type": "display_data"
    }
   ],
   "source": [
    "ax1,ax2,ax3 = genre_count_stats.plot.bar(subplots=True)\n",
    "fig = ax1.get_figure()\n",
    "fig.set_size_inches(10,10)\n",
    "ax1.set_ylabel(\"Revenue\")\n",
    "ax1.legend(\"\")\n",
    "ax1.set_title(\"\")\n",
    "ax2.set_ylabel(\"Rating\")\n",
    "ax2.legend(\"\")\n",
    "ax2.set_title(\"\")\n",
    "ax3.set_ylabel(\"Metascore\")\n",
    "ax3.legend(\"\")\n",
    "ax3.set_title(\"\")\n",
    "ax3.set_xticklabels(genre_count_stats.index, rotation = 0.05);"
   ]
  },
  {
   "cell_type": "markdown",
   "id": "91bb6ff2-1b00-41e8-b76b-846450797bcd",
   "metadata": {},
   "source": [
    "## The number of genre in the movie increases the revenue significantly.\n",
    "## However, the number of genre does not impact much to rating and Metascore "
   ]
  },
  {
   "cell_type": "markdown",
   "id": "fd7c551b-a513-444f-b86a-0a799a01952b",
   "metadata": {},
   "source": [
    "### What are the Genres that that bring higher Revenue, higher rating and higher critical acclaim for a movie?"
   ]
  },
  {
   "cell_type": "markdown",
   "id": "fa7948d8-9636-441d-aa3b-ab0cd844b066",
   "metadata": {},
   "source": [
    "## 8. Since we know that a Genre count of 3 brings the best out a movie, lets find out which combination of 3 Genres earns more Revenue, rating and critical acclaim"
   ]
  },
  {
   "cell_type": "code",
   "execution_count": 108,
   "id": "96aa7007-63ca-41be-a738-18e928ec591d",
   "metadata": {},
   "outputs": [
    {
     "data": {
      "text/html": [
       "<div>\n",
       "<style scoped>\n",
       "    .dataframe tbody tr th:only-of-type {\n",
       "        vertical-align: middle;\n",
       "    }\n",
       "\n",
       "    .dataframe tbody tr th {\n",
       "        vertical-align: top;\n",
       "    }\n",
       "\n",
       "    .dataframe thead th {\n",
       "        text-align: right;\n",
       "    }\n",
       "</style>\n",
       "<table border=\"1\" class=\"dataframe\">\n",
       "  <thead>\n",
       "    <tr style=\"text-align: right;\">\n",
       "      <th></th>\n",
       "      <th>Rank</th>\n",
       "      <th>Title</th>\n",
       "      <th>Genre</th>\n",
       "      <th>Description</th>\n",
       "      <th>Director</th>\n",
       "      <th>Actors</th>\n",
       "      <th>Year</th>\n",
       "      <th>Runtime (Minutes)</th>\n",
       "      <th>Rating</th>\n",
       "      <th>Votes</th>\n",
       "      <th>Revenue (Millions)</th>\n",
       "      <th>Metascore</th>\n",
       "      <th>Runtime_level</th>\n",
       "      <th>Genre_count</th>\n",
       "    </tr>\n",
       "  </thead>\n",
       "  <tbody>\n",
       "    <tr>\n",
       "      <th>0</th>\n",
       "      <td>1</td>\n",
       "      <td>Guardians of the Galaxy</td>\n",
       "      <td>Action,Adventure,Sci-Fi</td>\n",
       "      <td>A group of intergalactic criminals are forced ...</td>\n",
       "      <td>James Gunn</td>\n",
       "      <td>Chris Pratt, Vin Diesel, Bradley Cooper, Zoe S...</td>\n",
       "      <td>2014</td>\n",
       "      <td>121</td>\n",
       "      <td>8.1</td>\n",
       "      <td>757074</td>\n",
       "      <td>333.130</td>\n",
       "      <td>76.0</td>\n",
       "      <td>Moderately Long</td>\n",
       "      <td>3</td>\n",
       "    </tr>\n",
       "    <tr>\n",
       "      <th>1</th>\n",
       "      <td>2</td>\n",
       "      <td>Prometheus</td>\n",
       "      <td>Adventure,Mystery,Sci-Fi</td>\n",
       "      <td>Following clues to the origin of mankind, a te...</td>\n",
       "      <td>Ridley Scott</td>\n",
       "      <td>Noomi Rapace, Logan Marshall-Green, Michael Fa...</td>\n",
       "      <td>2012</td>\n",
       "      <td>124</td>\n",
       "      <td>7.0</td>\n",
       "      <td>485820</td>\n",
       "      <td>126.460</td>\n",
       "      <td>65.0</td>\n",
       "      <td>Long</td>\n",
       "      <td>3</td>\n",
       "    </tr>\n",
       "    <tr>\n",
       "      <th>3</th>\n",
       "      <td>4</td>\n",
       "      <td>Sing</td>\n",
       "      <td>Animation,Comedy,Family</td>\n",
       "      <td>In a city of humanoid animals, a hustling thea...</td>\n",
       "      <td>Christophe Lourdelet</td>\n",
       "      <td>Matthew McConaughey,Reese Witherspoon, Seth Ma...</td>\n",
       "      <td>2016</td>\n",
       "      <td>108</td>\n",
       "      <td>7.2</td>\n",
       "      <td>60545</td>\n",
       "      <td>270.320</td>\n",
       "      <td>59.0</td>\n",
       "      <td>Medium</td>\n",
       "      <td>3</td>\n",
       "    </tr>\n",
       "    <tr>\n",
       "      <th>4</th>\n",
       "      <td>5</td>\n",
       "      <td>Suicide Squad</td>\n",
       "      <td>Action,Adventure,Fantasy</td>\n",
       "      <td>A secret government agency recruits some of th...</td>\n",
       "      <td>David Ayer</td>\n",
       "      <td>Will Smith, Jared Leto, Margot Robbie, Viola D...</td>\n",
       "      <td>2016</td>\n",
       "      <td>123</td>\n",
       "      <td>6.2</td>\n",
       "      <td>393727</td>\n",
       "      <td>325.020</td>\n",
       "      <td>40.0</td>\n",
       "      <td>Moderately Long</td>\n",
       "      <td>3</td>\n",
       "    </tr>\n",
       "    <tr>\n",
       "      <th>5</th>\n",
       "      <td>6</td>\n",
       "      <td>The Great Wall</td>\n",
       "      <td>Action,Adventure,Fantasy</td>\n",
       "      <td>European mercenaries searching for black powde...</td>\n",
       "      <td>Yimou Zhang</td>\n",
       "      <td>Matt Damon, Tian Jing, Willem Dafoe, Andy Lau</td>\n",
       "      <td>2016</td>\n",
       "      <td>103</td>\n",
       "      <td>6.1</td>\n",
       "      <td>56036</td>\n",
       "      <td>45.130</td>\n",
       "      <td>42.0</td>\n",
       "      <td>Medium</td>\n",
       "      <td>3</td>\n",
       "    </tr>\n",
       "    <tr>\n",
       "      <th>...</th>\n",
       "      <td>...</td>\n",
       "      <td>...</td>\n",
       "      <td>...</td>\n",
       "      <td>...</td>\n",
       "      <td>...</td>\n",
       "      <td>...</td>\n",
       "      <td>...</td>\n",
       "      <td>...</td>\n",
       "      <td>...</td>\n",
       "      <td>...</td>\n",
       "      <td>...</td>\n",
       "      <td>...</td>\n",
       "      <td>...</td>\n",
       "      <td>...</td>\n",
       "    </tr>\n",
       "    <tr>\n",
       "      <th>991</th>\n",
       "      <td>992</td>\n",
       "      <td>Taare Zameen Par</td>\n",
       "      <td>Drama,Family,Music</td>\n",
       "      <td>An eight-year-old boy is thought to be a lazy ...</td>\n",
       "      <td>Aamir Khan</td>\n",
       "      <td>Darsheel Safary, Aamir Khan, Tanay Chheda, Sac...</td>\n",
       "      <td>2007</td>\n",
       "      <td>165</td>\n",
       "      <td>8.5</td>\n",
       "      <td>102697</td>\n",
       "      <td>1.200</td>\n",
       "      <td>42.0</td>\n",
       "      <td>Long</td>\n",
       "      <td>3</td>\n",
       "    </tr>\n",
       "    <tr>\n",
       "      <th>993</th>\n",
       "      <td>994</td>\n",
       "      <td>Resident Evil: Afterlife</td>\n",
       "      <td>Action,Adventure,Horror</td>\n",
       "      <td>While still out to destroy the evil Umbrella C...</td>\n",
       "      <td>Paul W.S. Anderson</td>\n",
       "      <td>Milla Jovovich, Ali Larter, Wentworth Miller,K...</td>\n",
       "      <td>2010</td>\n",
       "      <td>97</td>\n",
       "      <td>5.9</td>\n",
       "      <td>140900</td>\n",
       "      <td>60.130</td>\n",
       "      <td>37.0</td>\n",
       "      <td>Short</td>\n",
       "      <td>3</td>\n",
       "    </tr>\n",
       "    <tr>\n",
       "      <th>995</th>\n",
       "      <td>996</td>\n",
       "      <td>Secret in Their Eyes</td>\n",
       "      <td>Crime,Drama,Mystery</td>\n",
       "      <td>A tight-knit team of rising investigators, alo...</td>\n",
       "      <td>Billy Ray</td>\n",
       "      <td>Chiwetel Ejiofor, Nicole Kidman, Julia Roberts...</td>\n",
       "      <td>2015</td>\n",
       "      <td>111</td>\n",
       "      <td>6.2</td>\n",
       "      <td>27585</td>\n",
       "      <td>47.985</td>\n",
       "      <td>45.0</td>\n",
       "      <td>Medium</td>\n",
       "      <td>3</td>\n",
       "    </tr>\n",
       "    <tr>\n",
       "      <th>997</th>\n",
       "      <td>998</td>\n",
       "      <td>Step Up 2: The Streets</td>\n",
       "      <td>Drama,Music,Romance</td>\n",
       "      <td>Romantic sparks occur between two dance studen...</td>\n",
       "      <td>Jon M. Chu</td>\n",
       "      <td>Robert Hoffman, Briana Evigan, Cassie Ventura,...</td>\n",
       "      <td>2008</td>\n",
       "      <td>98</td>\n",
       "      <td>6.2</td>\n",
       "      <td>70699</td>\n",
       "      <td>58.010</td>\n",
       "      <td>50.0</td>\n",
       "      <td>Short</td>\n",
       "      <td>3</td>\n",
       "    </tr>\n",
       "    <tr>\n",
       "      <th>999</th>\n",
       "      <td>1000</td>\n",
       "      <td>Nine Lives</td>\n",
       "      <td>Comedy,Family,Fantasy</td>\n",
       "      <td>A stuffy businessman finds himself trapped ins...</td>\n",
       "      <td>Barry Sonnenfeld</td>\n",
       "      <td>Kevin Spacey, Jennifer Garner, Robbie Amell,Ch...</td>\n",
       "      <td>2016</td>\n",
       "      <td>87</td>\n",
       "      <td>5.3</td>\n",
       "      <td>12435</td>\n",
       "      <td>19.640</td>\n",
       "      <td>11.0</td>\n",
       "      <td>Short</td>\n",
       "      <td>3</td>\n",
       "    </tr>\n",
       "  </tbody>\n",
       "</table>\n",
       "<p>624 rows × 14 columns</p>\n",
       "</div>"
      ],
      "text/plain": [
       "     Rank                     Title                     Genre  \\\n",
       "0       1   Guardians of the Galaxy   Action,Adventure,Sci-Fi   \n",
       "1       2                Prometheus  Adventure,Mystery,Sci-Fi   \n",
       "3       4                      Sing   Animation,Comedy,Family   \n",
       "4       5             Suicide Squad  Action,Adventure,Fantasy   \n",
       "5       6            The Great Wall  Action,Adventure,Fantasy   \n",
       "..    ...                       ...                       ...   \n",
       "991   992          Taare Zameen Par        Drama,Family,Music   \n",
       "993   994  Resident Evil: Afterlife   Action,Adventure,Horror   \n",
       "995   996      Secret in Their Eyes       Crime,Drama,Mystery   \n",
       "997   998    Step Up 2: The Streets       Drama,Music,Romance   \n",
       "999  1000                Nine Lives     Comedy,Family,Fantasy   \n",
       "\n",
       "                                           Description              Director  \\\n",
       "0    A group of intergalactic criminals are forced ...            James Gunn   \n",
       "1    Following clues to the origin of mankind, a te...          Ridley Scott   \n",
       "3    In a city of humanoid animals, a hustling thea...  Christophe Lourdelet   \n",
       "4    A secret government agency recruits some of th...            David Ayer   \n",
       "5    European mercenaries searching for black powde...           Yimou Zhang   \n",
       "..                                                 ...                   ...   \n",
       "991  An eight-year-old boy is thought to be a lazy ...            Aamir Khan   \n",
       "993  While still out to destroy the evil Umbrella C...    Paul W.S. Anderson   \n",
       "995  A tight-knit team of rising investigators, alo...             Billy Ray   \n",
       "997  Romantic sparks occur between two dance studen...            Jon M. Chu   \n",
       "999  A stuffy businessman finds himself trapped ins...      Barry Sonnenfeld   \n",
       "\n",
       "                                                Actors  Year  \\\n",
       "0    Chris Pratt, Vin Diesel, Bradley Cooper, Zoe S...  2014   \n",
       "1    Noomi Rapace, Logan Marshall-Green, Michael Fa...  2012   \n",
       "3    Matthew McConaughey,Reese Witherspoon, Seth Ma...  2016   \n",
       "4    Will Smith, Jared Leto, Margot Robbie, Viola D...  2016   \n",
       "5        Matt Damon, Tian Jing, Willem Dafoe, Andy Lau  2016   \n",
       "..                                                 ...   ...   \n",
       "991  Darsheel Safary, Aamir Khan, Tanay Chheda, Sac...  2007   \n",
       "993  Milla Jovovich, Ali Larter, Wentworth Miller,K...  2010   \n",
       "995  Chiwetel Ejiofor, Nicole Kidman, Julia Roberts...  2015   \n",
       "997  Robert Hoffman, Briana Evigan, Cassie Ventura,...  2008   \n",
       "999  Kevin Spacey, Jennifer Garner, Robbie Amell,Ch...  2016   \n",
       "\n",
       "     Runtime (Minutes)  Rating   Votes  Revenue (Millions)  Metascore  \\\n",
       "0                  121     8.1  757074             333.130       76.0   \n",
       "1                  124     7.0  485820             126.460       65.0   \n",
       "3                  108     7.2   60545             270.320       59.0   \n",
       "4                  123     6.2  393727             325.020       40.0   \n",
       "5                  103     6.1   56036              45.130       42.0   \n",
       "..                 ...     ...     ...                 ...        ...   \n",
       "991                165     8.5  102697               1.200       42.0   \n",
       "993                 97     5.9  140900              60.130       37.0   \n",
       "995                111     6.2   27585              47.985       45.0   \n",
       "997                 98     6.2   70699              58.010       50.0   \n",
       "999                 87     5.3   12435              19.640       11.0   \n",
       "\n",
       "       Runtime_level  Genre_count  \n",
       "0    Moderately Long            3  \n",
       "1               Long            3  \n",
       "3             Medium            3  \n",
       "4    Moderately Long            3  \n",
       "5             Medium            3  \n",
       "..               ...          ...  \n",
       "991             Long            3  \n",
       "993            Short            3  \n",
       "995           Medium            3  \n",
       "997            Short            3  \n",
       "999            Short            3  \n",
       "\n",
       "[624 rows x 14 columns]"
      ]
     },
     "execution_count": 108,
     "metadata": {},
     "output_type": "execute_result"
    }
   ],
   "source": [
    "best_genre_combo = df[df['Genre_count'] == 3]\n",
    "best_genre_combo"
   ]
  },
  {
   "cell_type": "code",
   "execution_count": 109,
   "id": "f9dc7ab9-3ed7-465b-9499-98107542c334",
   "metadata": {},
   "outputs": [
    {
     "name": "stderr",
     "output_type": "stream",
     "text": [
      "C:\\Users\\ansar\\AppData\\Local\\Temp\\ipykernel_1576\\1265076629.py:1: FutureWarning: Indexing with multiple keys (implicitly converted to a tuple of keys) will be deprecated, use a list instead.\n",
      "  best_genre_combo = best_genre_combo.groupby('Genre')['Revenue (Millions)','Rating','Metascore'].mean()\n"
     ]
    },
    {
     "data": {
      "text/html": [
       "<div>\n",
       "<style scoped>\n",
       "    .dataframe tbody tr th:only-of-type {\n",
       "        vertical-align: middle;\n",
       "    }\n",
       "\n",
       "    .dataframe tbody tr th {\n",
       "        vertical-align: top;\n",
       "    }\n",
       "\n",
       "    .dataframe thead th {\n",
       "        text-align: right;\n",
       "    }\n",
       "</style>\n",
       "<table border=\"1\" class=\"dataframe\">\n",
       "  <thead>\n",
       "    <tr style=\"text-align: right;\">\n",
       "      <th></th>\n",
       "      <th>Revenue (Millions)</th>\n",
       "      <th>Rating</th>\n",
       "      <th>Metascore</th>\n",
       "    </tr>\n",
       "    <tr>\n",
       "      <th>Genre</th>\n",
       "      <th></th>\n",
       "      <th></th>\n",
       "      <th></th>\n",
       "    </tr>\n",
       "  </thead>\n",
       "  <tbody>\n",
       "    <tr>\n",
       "      <th>Action,Adventure,Biography</th>\n",
       "      <td>16.500000</td>\n",
       "      <td>7.000000</td>\n",
       "      <td>62.500000</td>\n",
       "    </tr>\n",
       "    <tr>\n",
       "      <th>Action,Adventure,Comedy</th>\n",
       "      <td>95.733571</td>\n",
       "      <td>6.592857</td>\n",
       "      <td>47.214286</td>\n",
       "    </tr>\n",
       "    <tr>\n",
       "      <th>Action,Adventure,Crime</th>\n",
       "      <td>90.620000</td>\n",
       "      <td>6.433333</td>\n",
       "      <td>48.333333</td>\n",
       "    </tr>\n",
       "    <tr>\n",
       "      <th>Action,Adventure,Drama</th>\n",
       "      <td>81.487647</td>\n",
       "      <td>6.441176</td>\n",
       "      <td>53.411765</td>\n",
       "    </tr>\n",
       "    <tr>\n",
       "      <th>Action,Adventure,Family</th>\n",
       "      <td>96.646250</td>\n",
       "      <td>5.575000</td>\n",
       "      <td>39.500000</td>\n",
       "    </tr>\n",
       "    <tr>\n",
       "      <th>...</th>\n",
       "      <td>...</td>\n",
       "      <td>...</td>\n",
       "      <td>...</td>\n",
       "    </tr>\n",
       "    <tr>\n",
       "      <th>Horror,Sci-Fi,Thriller</th>\n",
       "      <td>38.771667</td>\n",
       "      <td>5.433333</td>\n",
       "      <td>41.333333</td>\n",
       "    </tr>\n",
       "    <tr>\n",
       "      <th>Mystery,Romance,Sci-Fi</th>\n",
       "      <td>54.700000</td>\n",
       "      <td>7.500000</td>\n",
       "      <td>74.000000</td>\n",
       "    </tr>\n",
       "    <tr>\n",
       "      <th>Mystery,Romance,Thriller</th>\n",
       "      <td>5.980000</td>\n",
       "      <td>6.300000</td>\n",
       "      <td>24.000000</td>\n",
       "    </tr>\n",
       "    <tr>\n",
       "      <th>Mystery,Sci-Fi,Thriller</th>\n",
       "      <td>68.763333</td>\n",
       "      <td>7.233333</td>\n",
       "      <td>65.333333</td>\n",
       "    </tr>\n",
       "    <tr>\n",
       "      <th>Mystery,Thriller,Western</th>\n",
       "      <td>47.985000</td>\n",
       "      <td>7.100000</td>\n",
       "      <td>44.000000</td>\n",
       "    </tr>\n",
       "  </tbody>\n",
       "</table>\n",
       "<p>151 rows × 3 columns</p>\n",
       "</div>"
      ],
      "text/plain": [
       "                            Revenue (Millions)    Rating  Metascore\n",
       "Genre                                                              \n",
       "Action,Adventure,Biography           16.500000  7.000000  62.500000\n",
       "Action,Adventure,Comedy              95.733571  6.592857  47.214286\n",
       "Action,Adventure,Crime               90.620000  6.433333  48.333333\n",
       "Action,Adventure,Drama               81.487647  6.441176  53.411765\n",
       "Action,Adventure,Family              96.646250  5.575000  39.500000\n",
       "...                                        ...       ...        ...\n",
       "Horror,Sci-Fi,Thriller               38.771667  5.433333  41.333333\n",
       "Mystery,Romance,Sci-Fi               54.700000  7.500000  74.000000\n",
       "Mystery,Romance,Thriller              5.980000  6.300000  24.000000\n",
       "Mystery,Sci-Fi,Thriller              68.763333  7.233333  65.333333\n",
       "Mystery,Thriller,Western             47.985000  7.100000  44.000000\n",
       "\n",
       "[151 rows x 3 columns]"
      ]
     },
     "execution_count": 109,
     "metadata": {},
     "output_type": "execute_result"
    }
   ],
   "source": [
    "best_genre_combo = best_genre_combo.groupby('Genre')['Revenue (Millions)','Rating','Metascore'].mean()\n",
    "best_genre_combo"
   ]
  },
  {
   "cell_type": "markdown",
   "id": "28cf24ad-24f2-41e3-ad76-62d273d6e177",
   "metadata": {},
   "source": [
    "### Best Genre combo in terms of Revenue"
   ]
  },
  {
   "cell_type": "code",
   "execution_count": 110,
   "id": "fadaf4d3-91b9-4100-be4b-44987e080d15",
   "metadata": {},
   "outputs": [
    {
     "data": {
      "text/plain": [
       "Text(0, 0.5, 'Revenue')"
      ]
     },
     "execution_count": 110,
     "metadata": {},
     "output_type": "execute_result"
    },
    {
     "data": {
      "image/png": "[encoded data removed]",
      "text/plain": [
       "<Figure size 720x720 with 1 Axes>"
      ]
     },
     "metadata": {},
     "output_type": "display_data"
    }
   ],
   "source": [
    "plt.figure(figsize=(10,10))\n",
    "ax = best_genre_combo['Revenue (Millions)'].sort_values(ascending=False).head(5).plot.bar(color=['blue', 'orange','green','red','yellow'])\n",
    "\n",
    "ax.set_ylabel('Revenue')"
   ]
  },
  {
   "cell_type": "markdown",
   "id": "e475674a-d974-4f48-a215-a0961d4eab28",
   "metadata": {},
   "source": [
    "### Best Genre combo in terms of Rating"
   ]
  },
  {
   "cell_type": "code",
   "execution_count": 111,
   "id": "56b3d59a-92c3-40cd-91aa-c6418fb1c1af",
   "metadata": {},
   "outputs": [
    {
     "data": {
      "text/plain": [
       "Text(0.5, 0, 'Rating')"
      ]
     },
     "execution_count": 111,
     "metadata": {},
     "output_type": "execute_result"
    },
    {
     "data": {
      "image/png": "[encoded data removed]",
      "text/plain": [
       "<Figure size 720x720 with 1 Axes>"
      ]
     },
     "metadata": {},
     "output_type": "display_data"
    }
   ],
   "source": [
    "plt.figure(figsize=(10,10))\n",
    "ax = best_genre_combo['Rating'].sort_values(ascending=False).head(5).plot.barh(color=['blue', 'orange','green','red','yellow'])\n",
    "ax.set_xlabel('Rating')"
   ]
  },
  {
   "cell_type": "markdown",
   "id": "8dc3f8ff-6335-45e3-9df7-f1e276bc3aab",
   "metadata": {},
   "source": [
    "### Best Genre combo in terms of Metascore"
   ]
  },
  {
   "cell_type": "code",
   "execution_count": 112,
   "id": "d1b0f761-5fc0-43be-ad64-eedfab483ee9",
   "metadata": {},
   "outputs": [
    {
     "data": {
      "text/plain": [
       "Text(0, 0.5, 'Metascore')"
      ]
     },
     "execution_count": 112,
     "metadata": {},
     "output_type": "execute_result"
    },
    {
     "data": {
      "image/png": "[encoded data removed]",
      "text/plain": [
       "<Figure size 720x720 with 1 Axes>"
      ]
     },
     "metadata": {},
     "output_type": "display_data"
    }
   ],
   "source": [
    "plt.figure(figsize=(10,10))\n",
    "best_genre_combo['Metascore'].sort_values(ascending=False).head(5).plot.bar(color=['blue', 'orange','green','red','cyan'])\n",
    "plt.ylabel('Metascore')"
   ]
  },
  {
   "cell_type": "markdown",
   "id": "1579cb9e-5fa3-4ac2-81c4-9d30f811ce8e",
   "metadata": {},
   "source": [
    "## We can see that Adventure,Drama,Fantasy genre produces Highest revenue "
   ]
  },
  {
   "cell_type": "markdown",
   "id": "2e98c070-8be4-45d2-aa31-0b423581c6d3",
   "metadata": {},
   "source": [
    "## 9. Is the number of movies increasing over the years ?"
   ]
  },
  {
   "cell_type": "code",
   "execution_count": 113,
   "id": "60dfa60e-a54b-4116-a0d4-43b17cec5813",
   "metadata": {},
   "outputs": [],
   "source": [
    "movies_year = df.groupby('Year')['Rank'].count()"
   ]
  },
  {
   "cell_type": "code",
   "execution_count": 114,
   "id": "bdd46f9f-6ce7-4989-b017-ebe70da7fcd6",
   "metadata": {},
   "outputs": [
    {
     "data": {
      "text/plain": [
       "Year\n",
       "2006     41\n",
       "2007     46\n",
       "2008     49\n",
       "2009     49\n",
       "2010     59\n",
       "2011     58\n",
       "2012     62\n",
       "2013     86\n",
       "2014     95\n",
       "2015    123\n",
       "2016    268\n",
       "Name: Rank, dtype: int64"
      ]
     },
     "execution_count": 114,
     "metadata": {},
     "output_type": "execute_result"
    }
   ],
   "source": [
    "movies_year"
   ]
  },
  {
   "cell_type": "code",
   "execution_count": 115,
   "id": "a419416e-1531-4c9e-ad82-c22a26cad4a0",
   "metadata": {},
   "outputs": [
    {
     "data": {
      "text/plain": [
       "Text(0, 0.5, 'Movies Count')"
      ]
     },
     "execution_count": 115,
     "metadata": {},
     "output_type": "execute_result"
    },
    {
     "data": {
      "image/png": "[encoded data removed]",
      "text/plain": [
       "<Figure size 720x720 with 1 Axes>"
      ]
     },
     "metadata": {},
     "output_type": "display_data"
    }
   ],
   "source": [
    "plt.figure(figsize=(10,10))\n",
    "ax = movies_year.plot()\n",
    "ax.set_title('Movies count per Year', y=1.04)\n",
    "ax.set_ylabel('Movies Count')"
   ]
  },
  {
   "cell_type": "markdown",
   "id": "036bfac9-038d-4d00-bd73-aaa1018293e6",
   "metadata": {},
   "source": [
    "## We can clearly see that number of movies produced in a year dramatically increasing"
   ]
  },
  {
   "cell_type": "markdown",
   "id": "b19be344-fe8d-4011-b171-63c32b113151",
   "metadata": {},
   "source": [
    " ### 10. Is revenue from movies increase per year?"
   ]
  },
  {
   "cell_type": "code",
   "execution_count": 116,
   "id": "bf833586-6d09-4bc9-a1d8-d9b79ce470ac",
   "metadata": {},
   "outputs": [],
   "source": [
    "revenue_year = df.groupby('Year')['Revenue (Millions)'].sum()"
   ]
  },
  {
   "cell_type": "code",
   "execution_count": 117,
   "id": "1d760fbf-972a-4bde-bab8-24554f377859",
   "metadata": {},
   "outputs": [
    {
     "data": {
      "text/plain": [
       "Year\n",
       "2006     3577.480\n",
       "2007     4191.230\n",
       "2008     4729.205\n",
       "2009     5400.330\n",
       "2010     6085.620\n",
       "2011     5389.075\n",
       "2012     6826.390\n",
       "2013     7495.080\n",
       "2014     8041.300\n",
       "2015     9470.880\n",
       "2016    14361.040\n",
       "Name: Revenue (Millions), dtype: float64"
      ]
     },
     "execution_count": 117,
     "metadata": {},
     "output_type": "execute_result"
    }
   ],
   "source": [
    "revenue_year"
   ]
  },
  {
   "cell_type": "code",
   "execution_count": 118,
   "id": "5b4c192f-540c-4588-8123-1bfcd3545035",
   "metadata": {},
   "outputs": [
    {
     "data": {
      "text/plain": [
       "Text(0, 0.5, 'Revenue')"
      ]
     },
     "execution_count": 118,
     "metadata": {},
     "output_type": "execute_result"
    },
    {
     "data": {
      "image/png": "[encoded data removed]",
      "text/plain": [
       "<Figure size 720x720 with 1 Axes>"
      ]
     },
     "metadata": {},
     "output_type": "display_data"
    }
   ],
   "source": [
    "plt.figure(figsize=(10,10))\n",
    "revenue_year.plot()\n",
    "plt.ylabel('Revenue')"
   ]
  },
  {
   "cell_type": "markdown",
   "id": "547366a1-5c67-429b-954d-44552aaa8f9a",
   "metadata": {},
   "source": [
    "### Wow! The revenue is incresing Exponentially over the years "
   ]
  },
  {
   "cell_type": "markdown",
   "id": "107534ee-ae23-42d4-9758-ab9947e93bb9",
   "metadata": {},
   "source": [
    "## 11. But Wait, Is the average revenue of the movies increasing over the years ?"
   ]
  },
  {
   "cell_type": "code",
   "execution_count": 119,
   "id": "5e2ea096-ed5c-4d0c-92c6-cf62d8f88060",
   "metadata": {},
   "outputs": [],
   "source": [
    "average_rev = df.groupby('Year')['Revenue (Millions)'].mean()"
   ]
  },
  {
   "cell_type": "code",
   "execution_count": 120,
   "id": "c9008192-2bc7-49b0-9728-fd488806a4f4",
   "metadata": {},
   "outputs": [
    {
     "data": {
      "text/plain": [
       "Text(0, 0.5, 'Revenue')"
      ]
     },
     "execution_count": 120,
     "metadata": {},
     "output_type": "execute_result"
    },
    {
     "data": {
      "image/png": "[encoded data removed]",
      "text/plain": [
       "<Figure size 720x720 with 1 Axes>"
      ]
     },
     "metadata": {},
     "output_type": "display_data"
    }
   ],
   "source": [
    "plt.figure(figsize=(10,10))\n",
    "average_rev.plot()\n",
    "plt.ylabel('Revenue')"
   ]
  },
  {
   "cell_type": "markdown",
   "id": "a9763d35-9d93-4d6d-b5a5-1a9fd8a7cf8f",
   "metadata": {},
   "source": [
    "## It is quite intreseting to see that the revenue is increasing over last 10 Years, But Averege revenue is decreasing \n",
    "### Well it may be because of the number of films released in a year is increasing \n",
    "### Eg: let's say 4 films release in one year so the amount of profit will also distribute among them \n",
    "### So probably finding the Director only by the Average Revenue, Average Rating, Average Metascore may not be a good idea. For example James Cameron has only directed a single movie (Avatar in 2009) in the last 10 years. In that year(2009), only 50 movies were released, according to the 'Movies Count per Year' line graph (above). But in 2016, the trend has changed: The number of movies released in 2016 is around 5 times that of movies in 2009.\n",
    "### So we need to find out the Directors who are more active in terms of directing more movies. Among them we need to find out directors who earn more revenue, rating and metascore. So let's do that below"
   ]
  },
  {
   "cell_type": "markdown",
   "id": "771bed4d-17f9-4848-9811-583c74b584d5",
   "metadata": {},
   "source": [
    "## 1. Most Active Directors who produced more than 5 movies"
   ]
  },
  {
   "cell_type": "code",
   "execution_count": 121,
   "id": "d74a9ba3-1285-4337-847b-b56a9ffa3b29",
   "metadata": {},
   "outputs": [
    {
     "data": {
      "text/plain": [
       "Ridley Scott          8\n",
       "M. Night Shyamalan    6\n",
       "Paul W.S. Anderson    6\n",
       "Michael Bay           6\n",
       "David Yates           6\n",
       "David Fincher         5\n",
       "Antoine Fuqua         5\n",
       "Denis Villeneuve      5\n",
       "Woody Allen           5\n",
       "Danny Boyle           5\n",
       "Christopher Nolan     5\n",
       "Zack Snyder           5\n",
       "Peter Berg            5\n",
       "Justin Lin            5\n",
       "Martin Scorsese       5\n",
       "J.J. Abrams           5\n",
       "Name: Director, dtype: int64"
      ]
     },
     "execution_count": 121,
     "metadata": {},
     "output_type": "execute_result"
    }
   ],
   "source": [
    "most_active_directors = df['Director'].value_counts()[df['Director'].value_counts() >= 5]\n",
    "most_active_directors"
   ]
  },
  {
   "cell_type": "code",
   "execution_count": 122,
   "id": "52731ce3-0323-48f9-98b0-3628f241a2bb",
   "metadata": {},
   "outputs": [
    {
     "data": {
      "text/html": [
       "<div>\n",
       "<style scoped>\n",
       "    .dataframe tbody tr th:only-of-type {\n",
       "        vertical-align: middle;\n",
       "    }\n",
       "\n",
       "    .dataframe tbody tr th {\n",
       "        vertical-align: top;\n",
       "    }\n",
       "\n",
       "    .dataframe thead th {\n",
       "        text-align: right;\n",
       "    }\n",
       "</style>\n",
       "<table border=\"1\" class=\"dataframe\">\n",
       "  <thead>\n",
       "    <tr style=\"text-align: right;\">\n",
       "      <th></th>\n",
       "      <th>Rank</th>\n",
       "      <th>Title</th>\n",
       "      <th>Genre</th>\n",
       "      <th>Description</th>\n",
       "      <th>Director</th>\n",
       "      <th>Actors</th>\n",
       "      <th>Year</th>\n",
       "      <th>Runtime (Minutes)</th>\n",
       "      <th>Rating</th>\n",
       "      <th>Votes</th>\n",
       "      <th>Revenue (Millions)</th>\n",
       "      <th>Metascore</th>\n",
       "      <th>Runtime_level</th>\n",
       "      <th>Genre_count</th>\n",
       "    </tr>\n",
       "  </thead>\n",
       "  <tbody>\n",
       "    <tr>\n",
       "      <th>1</th>\n",
       "      <td>2</td>\n",
       "      <td>Prometheus</td>\n",
       "      <td>Adventure,Mystery,Sci-Fi</td>\n",
       "      <td>Following clues to the origin of mankind, a te...</td>\n",
       "      <td>Ridley Scott</td>\n",
       "      <td>Noomi Rapace, Logan Marshall-Green, Michael Fa...</td>\n",
       "      <td>2012</td>\n",
       "      <td>124</td>\n",
       "      <td>7.0</td>\n",
       "      <td>485820</td>\n",
       "      <td>126.46</td>\n",
       "      <td>65.0</td>\n",
       "      <td>Long</td>\n",
       "      <td>3</td>\n",
       "    </tr>\n",
       "    <tr>\n",
       "      <th>2</th>\n",
       "      <td>3</td>\n",
       "      <td>Split</td>\n",
       "      <td>Horror,Thriller</td>\n",
       "      <td>Three girls are kidnapped by a man with a diag...</td>\n",
       "      <td>M. Night Shyamalan</td>\n",
       "      <td>James McAvoy, Anya Taylor-Joy, Haley Lu Richar...</td>\n",
       "      <td>2016</td>\n",
       "      <td>117</td>\n",
       "      <td>7.3</td>\n",
       "      <td>157606</td>\n",
       "      <td>138.12</td>\n",
       "      <td>62.0</td>\n",
       "      <td>Moderately Long</td>\n",
       "      <td>2</td>\n",
       "    </tr>\n",
       "    <tr>\n",
       "      <th>10</th>\n",
       "      <td>11</td>\n",
       "      <td>Fantastic Beasts and Where to Find Them</td>\n",
       "      <td>Adventure,Family,Fantasy</td>\n",
       "      <td>The adventures of writer Newt Scamander in New...</td>\n",
       "      <td>David Yates</td>\n",
       "      <td>Eddie Redmayne, Katherine Waterston, Alison Su...</td>\n",
       "      <td>2016</td>\n",
       "      <td>133</td>\n",
       "      <td>7.5</td>\n",
       "      <td>232072</td>\n",
       "      <td>234.02</td>\n",
       "      <td>66.0</td>\n",
       "      <td>Long</td>\n",
       "      <td>3</td>\n",
       "    </tr>\n",
       "    <tr>\n",
       "      <th>19</th>\n",
       "      <td>20</td>\n",
       "      <td>Arrival</td>\n",
       "      <td>Drama,Mystery,Sci-Fi</td>\n",
       "      <td>When twelve mysterious spacecraft appear aroun...</td>\n",
       "      <td>Denis Villeneuve</td>\n",
       "      <td>Amy Adams, Jeremy Renner, Forest Whitaker,Mich...</td>\n",
       "      <td>2016</td>\n",
       "      <td>116</td>\n",
       "      <td>8.0</td>\n",
       "      <td>340798</td>\n",
       "      <td>100.50</td>\n",
       "      <td>81.0</td>\n",
       "      <td>Moderately Long</td>\n",
       "      <td>3</td>\n",
       "    </tr>\n",
       "    <tr>\n",
       "      <th>34</th>\n",
       "      <td>35</td>\n",
       "      <td>Resident Evil: The Final Chapter</td>\n",
       "      <td>Action,Horror,Sci-Fi</td>\n",
       "      <td>Alice returns to where the nightmare began: Th...</td>\n",
       "      <td>Paul W.S. Anderson</td>\n",
       "      <td>Milla Jovovich, Iain Glen, Ali Larter, Shawn R...</td>\n",
       "      <td>2016</td>\n",
       "      <td>107</td>\n",
       "      <td>5.6</td>\n",
       "      <td>46165</td>\n",
       "      <td>26.84</td>\n",
       "      <td>49.0</td>\n",
       "      <td>Medium</td>\n",
       "      <td>3</td>\n",
       "    </tr>\n",
       "  </tbody>\n",
       "</table>\n",
       "</div>"
      ],
      "text/plain": [
       "    Rank                                    Title                     Genre  \\\n",
       "1      2                               Prometheus  Adventure,Mystery,Sci-Fi   \n",
       "2      3                                    Split           Horror,Thriller   \n",
       "10    11  Fantastic Beasts and Where to Find Them  Adventure,Family,Fantasy   \n",
       "19    20                                  Arrival      Drama,Mystery,Sci-Fi   \n",
       "34    35         Resident Evil: The Final Chapter      Action,Horror,Sci-Fi   \n",
       "\n",
       "                                          Description            Director  \\\n",
       "1   Following clues to the origin of mankind, a te...        Ridley Scott   \n",
       "2   Three girls are kidnapped by a man with a diag...  M. Night Shyamalan   \n",
       "10  The adventures of writer Newt Scamander in New...         David Yates   \n",
       "19  When twelve mysterious spacecraft appear aroun...    Denis Villeneuve   \n",
       "34  Alice returns to where the nightmare began: Th...  Paul W.S. Anderson   \n",
       "\n",
       "                                               Actors  Year  \\\n",
       "1   Noomi Rapace, Logan Marshall-Green, Michael Fa...  2012   \n",
       "2   James McAvoy, Anya Taylor-Joy, Haley Lu Richar...  2016   \n",
       "10  Eddie Redmayne, Katherine Waterston, Alison Su...  2016   \n",
       "19  Amy Adams, Jeremy Renner, Forest Whitaker,Mich...  2016   \n",
       "34  Milla Jovovich, Iain Glen, Ali Larter, Shawn R...  2016   \n",
       "\n",
       "    Runtime (Minutes)  Rating   Votes  Revenue (Millions)  Metascore  \\\n",
       "1                 124     7.0  485820              126.46       65.0   \n",
       "2                 117     7.3  157606              138.12       62.0   \n",
       "10                133     7.5  232072              234.02       66.0   \n",
       "19                116     8.0  340798              100.50       81.0   \n",
       "34                107     5.6   46165               26.84       49.0   \n",
       "\n",
       "      Runtime_level  Genre_count  \n",
       "1              Long            3  \n",
       "2   Moderately Long            2  \n",
       "10             Long            3  \n",
       "19  Moderately Long            3  \n",
       "34           Medium            3  "
      ]
     },
     "execution_count": 122,
     "metadata": {},
     "output_type": "execute_result"
    }
   ],
   "source": [
    "active_director_movies = df[df.Director.isin(most_active_directors.index.tolist())]\n",
    "active_director_movies.head()\n",
    "#df['Director'].value_counts()>>EG A DATAFRAME >>DF\n",
    "# DF[df['Director'].value_counts()>5]"
   ]
  },
  {
   "cell_type": "code",
   "execution_count": 123,
   "id": "f0b0a7bd-f274-4bf8-84fc-0be40264f6a4",
   "metadata": {},
   "outputs": [
    {
     "name": "stderr",
     "output_type": "stream",
     "text": [
      "C:\\Users\\ansar\\AppData\\Local\\Temp\\ipykernel_1576\\3824961326.py:1: FutureWarning: Indexing with multiple keys (implicitly converted to a tuple of keys) will be deprecated, use a list instead.\n",
      "  active_director_stats = active_director_movies.groupby('Director')['Revenue (Millions)', 'Rating', 'Metascore'].mean().sort_values('Revenue (Millions)', ascending=False)\n"
     ]
    },
    {
     "data": {
      "text/html": [
       "<div>\n",
       "<style scoped>\n",
       "    .dataframe tbody tr th:only-of-type {\n",
       "        vertical-align: middle;\n",
       "    }\n",
       "\n",
       "    .dataframe tbody tr th {\n",
       "        vertical-align: top;\n",
       "    }\n",
       "\n",
       "    .dataframe thead th {\n",
       "        text-align: right;\n",
       "    }\n",
       "</style>\n",
       "<table border=\"1\" class=\"dataframe\">\n",
       "  <thead>\n",
       "    <tr style=\"text-align: right;\">\n",
       "      <th></th>\n",
       "      <th>Revenue (Millions)</th>\n",
       "      <th>Rating</th>\n",
       "      <th>Metascore</th>\n",
       "    </tr>\n",
       "    <tr>\n",
       "      <th>Director</th>\n",
       "      <th></th>\n",
       "      <th></th>\n",
       "      <th></th>\n",
       "    </tr>\n",
       "  </thead>\n",
       "  <tbody>\n",
       "    <tr>\n",
       "      <th>J.J. Abrams</th>\n",
       "      <td>336.690000</td>\n",
       "      <td>7.580000</td>\n",
       "      <td>74.600000</td>\n",
       "    </tr>\n",
       "    <tr>\n",
       "      <th>Christopher Nolan</th>\n",
       "      <td>303.018000</td>\n",
       "      <td>8.680000</td>\n",
       "      <td>74.800000</td>\n",
       "    </tr>\n",
       "    <tr>\n",
       "      <th>David Yates</th>\n",
       "      <td>271.751667</td>\n",
       "      <td>7.433333</td>\n",
       "      <td>68.500000</td>\n",
       "    </tr>\n",
       "    <tr>\n",
       "      <th>Michael Bay</th>\n",
       "      <td>236.886667</td>\n",
       "      <td>6.483333</td>\n",
       "      <td>43.833333</td>\n",
       "    </tr>\n",
       "    <tr>\n",
       "      <th>Zack Snyder</th>\n",
       "      <td>195.148000</td>\n",
       "      <td>7.040000</td>\n",
       "      <td>48.000000</td>\n",
       "    </tr>\n",
       "  </tbody>\n",
       "</table>\n",
       "</div>"
      ],
      "text/plain": [
       "                   Revenue (Millions)    Rating  Metascore\n",
       "Director                                                  \n",
       "J.J. Abrams                336.690000  7.580000  74.600000\n",
       "Christopher Nolan          303.018000  8.680000  74.800000\n",
       "David Yates                271.751667  7.433333  68.500000\n",
       "Michael Bay                236.886667  6.483333  43.833333\n",
       "Zack Snyder                195.148000  7.040000  48.000000"
      ]
     },
     "execution_count": 123,
     "metadata": {},
     "output_type": "execute_result"
    }
   ],
   "source": [
    "active_director_stats = active_director_movies.groupby('Director')['Revenue (Millions)', 'Rating', 'Metascore'].mean().sort_values('Revenue (Millions)', ascending=False)\n",
    "active_director_stats[:5]"
   ]
  },
  {
   "cell_type": "markdown",
   "id": "dc8e5110-21c2-4224-b21f-9a0fa2f03e41",
   "metadata": {},
   "source": [
    "## 2. Most Active director's who's movie perfoems well in terms of revenue "
   ]
  },
  {
   "cell_type": "code",
   "execution_count": 124,
   "id": "9898266a-d7c5-4e82-8477-0b7a52419dc1",
   "metadata": {},
   "outputs": [
    {
     "data": {
      "text/plain": [
       "Text(0.5, 0, 'Revenue')"
      ]
     },
     "execution_count": 124,
     "metadata": {},
     "output_type": "execute_result"
    },
    {
     "data": {
      "image/png": "[encoded data removed]",
      "text/plain": [
       "<Figure size 720x720 with 1 Axes>"
      ]
     },
     "metadata": {},
     "output_type": "display_data"
    }
   ],
   "source": [
    "plt.figure(figsize=(10,10))\n",
    "active_director_stats[:5]['Revenue (Millions)'].plot.barh()\n",
    "plt.xlabel('Revenue')"
   ]
  },
  {
   "cell_type": "code",
   "execution_count": 125,
   "id": "2c943e17-8618-4384-b871-2b980c7eaed7",
   "metadata": {},
   "outputs": [
    {
     "data": {
      "text/plain": [
       "Text(0.5, 0, 'Revenue')"
      ]
     },
     "execution_count": 125,
     "metadata": {},
     "output_type": "execute_result"
    },
    {
     "data": {
      "text/plain": [
       "<Figure size 720x720 with 0 Axes>"
      ]
     },
     "metadata": {},
     "output_type": "display_data"
    },
    {
     "data": {
      "image/png": "[encoded data removed]",
      "text/plain": [
       "<Figure size 432x288 with 1 Axes>"
      ]
     },
     "metadata": {},
     "output_type": "display_data"
    }
   ],
   "source": [
    "plt.figure(figsize=(10,10))\n",
    "active_director_stats[:5].plot.barh(color=['red','green','blue'])\n",
    "plt.xlabel('Revenue')"
   ]
  },
  {
   "cell_type": "code",
   "execution_count": 126,
   "id": "71c7eda0-435d-4a72-8379-cbc0673fbf34",
   "metadata": {},
   "outputs": [
    {
     "data": {
      "image/png": "[encoded data removed]",
      "text/plain": [
       "<Figure size 540x540 with 12 Axes>"
      ]
     },
     "metadata": {},
     "output_type": "display_data"
    }
   ],
   "source": [
    "a=sns.pairplot(df, palette=\"muted\",height=2.5,vars=['Revenue (Millions)', 'Rating', 'Metascore'], kind='reg');\n",
    "\n",
    "#to change the size of scatterpoints\n",
    "a=a.map_offdiag(plt.scatter,s=35,alpha=0.9)\n",
    "\n",
    "#additional line to adjust some appearance issues\n",
    "plt.subplots_adjust(top=0.9);\n",
    "\n",
    "#set the title of the graph\n",
    "a.fig.suptitle('Relationship between Revenue, Rating and Metascore of Movies',fontsize=20,color='r',alpha=1);"
   ]
  },
  {
   "cell_type": "markdown",
   "id": "1678150b-3e14-4bbf-84b1-a5d8bc0ab665",
   "metadata": {},
   "source": [
    "## This section draws the conclusion from the exploration done on the dataset.\n",
    "\n",
    "# Director\n",
    "\n",
    "#### The director who has earned the highest average revenue is James Cameron.However he has directed only 1 movie in the 10 year period.\n",
    "#### Christopher Nolan's movies are the most popular among viewers as the average rating for his movies is the highest in the 10 year period.\n",
    "#### Looking at the Movie Industry Trend, most active directors are more favored.\n",
    "#### Among the most active directors, J J Abrams's movies earn more in terms of Average Revenue\n",
    "#### Christopher Nolan is the most popular active director in terms of Average Rating among people\n",
    "\n",
    "# Runtime \n",
    "\n",
    "#### Movies with Long runtimes (> 123 minutes) earn more in terms of Revenue, Rating and Metascore.\n",
    "#### Revenue is dramatically high for movies with Long runtimes\n",
    "\n",
    "# Genre\n",
    "\n",
    "#### As the Genre count increases in a movie, its Revenue, Rating and Metascore are on the rise.\n",
    "#### However, revenue is significantly high for movies with Genre count of 3.\n",
    "#### Adventure as Genre is a common factor for movies that brings in more Revenue, with the Genre combination of \"Adventure, Drama, Fantasy\" earning the highest Revenue\n",
    "#### The most popular Genre is Drama and the Genre combination of \"Animation, Drama, Fantasy\" earns the highest Rating.\n",
    "#### Again Drama is popular among Critics as well, with the Genre combination of \"Drama, Fantasy, War\" earning the highest Metascore.\n",
    "\n",
    "\n",
    "# Industry Growth\n",
    "\n",
    "#### Industry is growing with respect to number of movies released and the total revenue gained year on year.\n",
    "#### However, the average revenue of movies year on year is showing a negative trend. This is probably because of increased competition and more movies released in the industry.\n",
    "#### The popularity of movies is also showing a negative trend year on year. This is probably because of more movies released with Genre combinations which are unpopular among viewers.\n",
    "\n",
    "\n",
    "# Rating for movies in General\n",
    "#### In general, movies with higher rating and metascore tend to earn more revenue as well.\n",
    "\n",
    "# Actionable Insights\n",
    "\n",
    "\n",
    "##### Produce multiple movies with best features - The movie industry is growing very fast. More movies are released year on year and the competition is very high and the revenue is distributed among many movies. It would not be a good idea to wait for that ONE BIG MOVIE like Avatar (by James Cameron) that brings highest Revenue, Rating and Metascore. So, produce more movies using the best features (explained below) for reaping the maximum benefits.\n",
    "\n",
    "#### Produce movies that have Long runtimes - Runtime greater than 2 hrs.\n",
    "\n",
    "#### Produce movies with 3 Genre combination - Include a mix of Drama, Animation, Adventure, Sci-Fi, Fantasy. The movies should relate to audience with real life incidents, should move them to the edge of the seats and should enhance their imagination.\n",
    "\n",
    "#### Produce movies that will satisfy both People and Critics - These movies will earn higher Revenue more often than not."
   ]
  },
  {
   "cell_type": "markdown",
   "id": "adff86f1-8812-4dea-b8b0-8c3a00b26565",
   "metadata": {},
   "source": [
    "# Wow! these amazing insights we get from the dataset.\n",
    "# Again, You can ask many more questions and extract more insights"
   ]
  },
  {
   "cell_type": "markdown",
   "id": "377656c3-b44d-44c1-a361-a9121039ad2e",
   "metadata": {},
   "source": [
    "# Thank You"
   ]
  }
 ],
 "metadata": {
  "kernelspec": {
   "display_name": "Python 3 (ipykernel)",
   "language": "python",
   "name": "python3"
  },
  "language_info": {
   "codemirror_mode": {
    "name": "ipython",
    "version": 3
   },
   "file_extension": ".py",
   "mimetype": "text/x-python",
   "name": "python",
   "nbconvert_exporter": "python",
   "pygments_lexer": "ipython3",
   "version": "3.9.12"
  }
 },
 "nbformat": 4,
 "nbformat_minor": 5
}
